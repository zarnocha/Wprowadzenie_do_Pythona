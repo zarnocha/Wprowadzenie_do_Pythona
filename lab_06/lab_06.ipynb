{
  "cells": [
    {
      "cell_type": "markdown",
      "metadata": {},
      "source": [
        "<h1 style=\\\"text-align: center\\\">lab_06, Artur Żarnoch, <b>162686</b></h1>"
      ]
    },
    {
      "cell_type": "markdown",
      "metadata": {},
      "source": [
        "<hr style=\\\"height: 3px; background-color: black;\\\" />\n",
        "<h2>Zadanie 1</h2>\n",
        "<p>Wczytaj plik zamowienia.csv i dokonaj w nim kilku przekształceń:\n",
        "<ul>\n",
        "    <li>pozbądź się znaku z (właściwie zł) z kolumny Utarg</li>\n",
        "    <li>zamień separator wartości dziesiętnej w tej samej kolumnie na '.'</li>\n",
        "    <li>pozbądź się spacji jako separatora tysięcy w kolumnie Utarg</li>\n",
        "    <li>zamień format daty w pliku na RRRR-MM-DD (wykorzystaj moduł datetime)</li>\n",
        "</ul>\n",
        "Podziel plik na dwie części i zapisz je tak, aby dane dla każdego kraju (Polska, Niemcy) znajdowały się w oddzielnych plikach o nazwach zamowienia_polska.csv i zamowienia_niemcy.csv.</p>"
      ]
    },
    {
      "cell_type": "code",
      "execution_count": 1,
      "metadata": {},
      "outputs": [],
      "source": [
        "import csv\n",
        "import datetime\n",
        "\n",
        "\n",
        "def repair_takings(taking: str) -> str:\n",
        "    taking = taking.rstrip(\" z\")\n",
        "    taking = taking.replace(\",\", \".\")\n",
        "    taking = taking.replace(\" \", \"\")\n",
        "    return taking\n",
        "\n",
        "\n",
        "def repair_date(old_date: str) -> str:\n",
        "    new_date = datetime.datetime.strptime(old_date, \"%d.%m.%Y\")\n",
        "    new_date = new_date.strftime('%Y-%m-%d')\n",
        "    return new_date\n",
        "\n",
        "\n",
        "def save_takings(orders: list[dict[str, str]], filename: str, columns: list[str]) -> None:\n",
        "    with open(filename, \"w\", newline=\"\", encoding=\"utf-8\") as file:\n",
        "        writer = csv.DictWriter(file, fieldnames=columns, delimiter=\";\")\n",
        "        writer.writeheader()\n",
        "        writer.writerows(orders)\n",
        "\n",
        "\n",
        "orders_file_name = \"zadanie_1/zamowienia.csv\"\n",
        "polish_orders_file_name = \"zadanie_1/zamowienia_polska.csv\"\n",
        "german_orders_file_name = \"zadanie_1/zamowienia_niemcy.csv\"\n",
        "\n",
        "with open(orders_file_name, encoding=\"utf-8\", errors=\"ignore\", newline='') as f:\n",
        "    reader = csv.DictReader(f, delimiter=\";\")\n",
        "    \n",
        "    polish_orders = []\n",
        "    german_orders = []\n",
        "    columns = reader.fieldnames\n",
        "\n",
        "    for row in reader:\n",
        "        row[\"Utarg\"] = repair_takings(row[\"Utarg\"])\n",
        "        row[\"Data zamowienia\"] = repair_date(row[\"Data zamowienia\"])\n",
        "\n",
        "        if row[\"Kraj\"] == \"Polska\":\n",
        "            polish_orders.append(row)\n",
        "        elif row[\"Kraj\"] == \"Niemcy\":\n",
        "            german_orders.append(row)\n",
        "\n",
        "\n",
        "    save_takings(polish_orders, polish_orders_file_name, columns)\n",
        "    save_takings(german_orders, german_orders_file_name, columns)\n"
      ]
    },
    {
      "cell_type": "markdown",
      "metadata": {},
      "source": [
        "<hr style=\\\"height: 3px; background-color: black;\\\" />\n",
        "<h2>Zadanie 2</h2>\n",
        "<p>Napisz funkcję, która przyjmuje listę plików oraz nazwę nowego pliku jako argumenty wejściowe. Funkcja scala zawartość plików w jeden plik wynikowy o podanej wcześniej nazwie.</p>"
      ]
    },
    {
      "cell_type": "code",
      "execution_count": 2,
      "metadata": {},
      "outputs": [],
      "source": [
        "def merge_files(files: list[str], new_file_name: str):\n",
        "    with open(new_file_name, \"w\", newline=\"\", encoding=\"utf-8\") as new_file:\n",
        "        for idx, file_name in enumerate(files):\n",
        "            with open(file_name, encoding=\"utf-8\", newline='') as file:\n",
        "                new_file.writelines(file)\n",
        "\n",
        "                if idx != len(files) - 1:\n",
        "                    new_file.write(\"\\n\")\n",
        "\n",
        "\n",
        "files = [\n",
        "    \"zadanie_2/plik_nr1.txt\", \n",
        "    \"zadanie_2/plik_nr2.txt\"\n",
        "]\n",
        "\n",
        "result_file = \"zadanie_2/result.txt\"\n",
        "\n",
        "merge_files(files, result_file)\n"
      ]
    },
    {
      "cell_type": "markdown",
      "metadata": {},
      "source": [
        "<hr style=\\\"height: 3px; background-color: black;\\\" />\n",
        "<h2>Zadanie 3</h2>\n",
        "<p>Napisz funkcję, która będzie zwracała n największych lub najmniejszych wartości (odpowiednia wartość parametru) z listy numerycznej. Lista jest parametrem wejściowym funkcji. W funkcji sprawdzaj czy lista zawiera tylko liczby.</p>"
      ]
    },
    {
      "cell_type": "code",
      "execution_count": 3,
      "metadata": {},
      "outputs": [
        {
          "name": "stdout",
          "output_type": "stream",
          "text": [
            "n_sorted_numbers(5, numbers, False): [21, 13.22, 7, 6.7, 5]\n",
            "n_sorted_numbers(3, numbers, True): [1.3, 2, 2.5]\n",
            "Error: ('List must contain only numbers! Given list:', [4, 7, 'a', 2, 6.7, False, True, 13.22, 5])\n"
          ]
        }
      ],
      "source": [
        "def is_list_numeric(list_to_check: list):\n",
        "    return all(isinstance(el, (int, float)) for el in list_to_check)\n",
        "\n",
        "\n",
        "def n_sorted_numbers(n: int, numbers_list: list[int | float], ascending: bool = True):\n",
        "    if not is_list_numeric(numbers_list):\n",
        "        raise TypeError(\"List must contain only numbers! Given list:\", numbers_list)\n",
        "\n",
        "    sorted_numbers = sorted(numbers_list, reverse=not ascending)\n",
        "    return sorted_numbers[:n]\n",
        "\n",
        "\n",
        "numbers = [\n",
        "    4,\n",
        "    7,\n",
        "    1.3,\n",
        "    2,\n",
        "    6.7,\n",
        "    2.5,\n",
        "    21,\n",
        "    13.22,\n",
        "    5,\n",
        "]\n",
        "\n",
        "not_numbers = [\n",
        "    4,\n",
        "    7,\n",
        "    \"a\",\n",
        "    2,\n",
        "    6.7,\n",
        "    False,\n",
        "    True,\n",
        "    13.22,\n",
        "    5,\n",
        "]\n",
        "\n",
        "print(\n",
        "    \"n_sorted_numbers(5, numbers, False):\", \n",
        "    n_sorted_numbers(5, numbers, False),\n",
        ")\n",
        "\n",
        "print(\n",
        "    \"n_sorted_numbers(3, numbers, True):\", \n",
        "    n_sorted_numbers(3, numbers, True),\n",
        ")\n",
        "\n",
        "try: \n",
        "    print(\n",
        "        \"n_sorted_numbers(5, not_numbers, True):\", \n",
        "        n_sorted_numbers(5, not_numbers, True),\n",
        "    )\n",
        "except TypeError as err:\n",
        "    print(\"Error:\", err)"
      ]
    },
    {
      "cell_type": "markdown",
      "metadata": {},
      "source": [
        "<hr style=\\\"height: 3px; background-color: black;\\\" />\n",
        "<h2>Zadanie 4</h2>\n",
        "<p>Mając listę mieszaną = [1, 2.3, ‘Zbyszek’, 5, ‘Marian’, 3.0] napisz funkcję, która zapisze wartości dla każdego typu do słownika gdzie pod kluczem równym nazwie typu zmiennej (int, float, str, itp.) wartością będzie lista elementów z listy 'mieszana' danego typu. Przykład: {'int': [1,5], 'str': ['Zbyszek','Marian']} itd.</p>"
      ]
    },
    {
      "cell_type": "code",
      "execution_count": 4,
      "metadata": {},
      "outputs": [
        {
          "name": "stdout",
          "output_type": "stream",
          "text": [
            "{'int': [1, 5], 'float': [2.3, 3.0], 'str': ['Zbyszek', 'Marian'], 'NoneType': [None], 'bytes': [b'abc'], 'bool': [True]}\n"
          ]
        }
      ],
      "source": [
        "def arrange_items_by_type(list_to_arrange: list):\n",
        "    arranged_dict = {}\n",
        "\n",
        "    for el in list_to_arrange:\n",
        "        type_of_el = type(el).__name__\n",
        "        \n",
        "        if type_of_el in arranged_dict.keys():\n",
        "            arranged_dict[type_of_el].append(el)\n",
        "        else:\n",
        "            arranged_dict[type_of_el] = [el]\n",
        "\n",
        "    return arranged_dict\n",
        "\n",
        "\n",
        "mieszana = [1, 2.3, \"Zbyszek\", 5, \"Marian\", 3.0, None, b'abc', True]\n",
        "print(arrange_items_by_type(mieszana))\n"
      ]
    },
    {
      "cell_type": "markdown",
      "metadata": {},
      "source": [
        "<hr style=\\\"height: 3px; background-color: black;\\\" />\n",
        "<h2>Zadanie 5</h2>\n",
        "<p>Napisz funkcję:\n",
        "<ul>\n",
        "    <li>parametr wejściowy to lista stringów z nazwiskami</li>\n",
        "    <li>funkcja zapisuje do dwóch oddzielnych plików o nazwach ‘A-M_nazwiska.txt’ oraz ‘N-Ż_nazwiska.txt’ odpowiednie nazwiska z podanej listy</li>\n",
        "</ul>\n",
        "Możesz wykorzystać moduł unidecode, który należy uprzednio zainstalować.</p>"
      ]
    },
    {
      "cell_type": "code",
      "execution_count": 5,
      "metadata": {},
      "outputs": [],
      "source": [
        "from faker import Faker\n",
        "import string\n",
        "\n",
        "\n",
        "faker = Faker('pl_PL')\n",
        "\n",
        "surnames = []\n",
        "\n",
        "for _ in range(50):\n",
        "    surnames.append(\n",
        "        faker.last_name()\n",
        "    )\n",
        "\n",
        "first_part_file_name = \"zadanie_3/A-M_nazwiska.txt\"\n",
        "second_part_file_name = \"zadanie_3/N-Ż_nazwiska.txt\"\n",
        "\n",
        "first_part = list(string.ascii_uppercase[:len(string.ascii_uppercase)//2])\n",
        "second_part = list(string.ascii_uppercase[len(string.ascii_uppercase)//2:])\n",
        "\n",
        "\n",
        "def split_surnames(surnames: list[str]):\n",
        "    with open(first_part_file_name, \"w\", encoding=\"utf-8\") as file_AtoM, open(second_part_file_name, \"w\", encoding=\"utf-8\") as file_NtoZ:\n",
        "        for surname in surnames:\n",
        "            if surname[0] in first_part:\n",
        "                file_AtoM.write(f\"{surname}\\n\")\n",
        "            else:\n",
        "                file_NtoZ.write(f\"{surname}\\n\")\n",
        "\n",
        "\n",
        "split_surnames(surnames)\n"
      ]
    },
    {
      "cell_type": "markdown",
      "metadata": {},
      "source": [
        "<hr style=\\\"height: 3px; background-color: black;\\\" />\n",
        "<h2>Zadanie 6</h2>\n",
        "<p>Napisz funkcję, która wyświetla podany tekst odwracając kolejność liter w wyrazach. Np. „Ala ma kota” wyświetli „alA am atok”</p>"
      ]
    },
    {
      "cell_type": "code",
      "execution_count": 6,
      "metadata": {},
      "outputs": [
        {
          "name": "stdout",
          "output_type": "stream",
          "text": [
            "alA am atok\n"
          ]
        }
      ],
      "source": [
        "def reverse_letters_in_words(sentence: str):\n",
        "    sentence_list = sentence.split(\" \")\n",
        "    reversed_sentence_list = [word[::-1] for word in sentence_list]\n",
        "    return \" \".join(reversed_sentence_list)\n",
        "\n",
        "\n",
        "sentence = \"Ala ma kota\"\n",
        "print(reverse_letters_in_words(sentence))\n"
      ]
    },
    {
      "cell_type": "markdown",
      "metadata": {},
      "source": [
        "<hr style=\\\"height: 3px; background-color: black;\\\" />\n",
        "<h2>Zadanie 7</h2>\n",
        "<p>Napisz funkcję, która:\n",
        "<ul>\n",
        "    <li>„rozdaje” karty z talii 52 kart (np. As pik, Dama karo, itd.) dla 4 graczy</li>\n",
        "    <li>karty rozdawane są bez powtórzeń po 5 dla każdego gracza</li>\n",
        "    <li>wyświetlana jest informacja jak wygląda „ręka” każdego z graczy, np. Alan [As pik, 9 karo, itd.]</li>\n",
        "</ul></p>"
      ]
    },
    {
      "cell_type": "code",
      "execution_count": 7,
      "metadata": {},
      "outputs": [
        {
          "name": "stdout",
          "output_type": "stream",
          "text": [
            "Gra:\n",
            "4 graczy, 5 kart na gracza\n",
            "Gracz 1 : [('Dama', 'pik'), ('As', 'pik'), (10, 'trefl'), (8, 'karo'), (5, 'pik')]\n",
            "Gracz 2 : [(7, 'karo'), (2, 'pik'), (9, 'kier'), ('As', 'kier'), ('Król', 'pik')]\n",
            "Gracz 3 : [(8, 'pik'), (8, 'trefl'), (3, 'pik'), ('Król', 'kier'), (3, 'kier')]\n",
            "Gracz 4 : [(3, 'karo'), (5, 'trefl'), ('Dama', 'trefl'), (5, 'karo'), (10, 'pik')]\n",
            "\n",
            "Gra:\n",
            "6 graczy, 3 kart na gracza\n",
            "Gracz 1 : [('Dama', 'trefl'), (4, 'trefl'), (6, 'trefl')]\n",
            "Gracz 2 : [(9, 'kier'), (5, 'pik'), (4, 'kier')]\n",
            "Gracz 3 : [('Król', 'karo'), (7, 'kier'), (3, 'karo')]\n",
            "Gracz 4 : [(4, 'pik'), ('Król', 'pik'), (2, 'karo')]\n",
            "Gracz 5 : [('Król', 'kier'), (5, 'kier'), (4, 'karo')]\n",
            "Gracz 6 : [('Dama', 'kier'), ('Król', 'trefl'), (10, 'kier')]\n",
            "\n",
            "Błąd gry:\n",
            "Liczba kart do rozdania (po 12 kart dla 6 graczy [łącznie: 72]) przekracza ilość kart w talii (52).\n"
          ]
        }
      ],
      "source": [
        "import random\n",
        "\n",
        "\n",
        "def get_card() -> tuple[str, str]:\n",
        "    colors = [\"pik\", \"kier\", \"trefl\", \"karo\"]\n",
        "    values = [\"Walet\", \"Dama\", \"Król\", \"As\", *[number for number in range(2, 11)]]\n",
        "\n",
        "    picked_color = random.choice(colors)\n",
        "    picked_value = random.choice(values)\n",
        "    picked_card = (picked_value, picked_color)\n",
        "\n",
        "    return picked_card\n",
        "\n",
        "\n",
        "def deal_cards(players_names: list[str] = [\"Gracz 1\", \"Gracz 2\", \"Gracz 3\", \"Gracz 4\"], amount_of_cards_per_player: int = 5) -> dict[str, list[tuple[str, str]]]:\n",
        "    players_amount = len(players_names)\n",
        "    if players_amount * amount_of_cards_per_player > 52:\n",
        "        raise ValueError(f\"Liczba kart do rozdania (po {amount_of_cards_per_player} kart dla {players_amount} graczy [łącznie: {amount_of_cards_per_player * players_amount}]) przekracza ilość kart w talii (52).\")\n",
        "\n",
        "    print(f\"{players_amount} graczy, {amount_of_cards_per_player} kart na gracza\")\n",
        "    \n",
        "    dealed_cards = []\n",
        "    players_hands = {name: [] for name in players_names}\n",
        "    player_turn = 0\n",
        "\n",
        "    while len(dealed_cards) != players_amount * amount_of_cards_per_player:\n",
        "        picked_card = get_card()\n",
        "\n",
        "        if picked_card not in dealed_cards:\n",
        "            player = players_names[player_turn]\n",
        "            players_hands[player].append(picked_card)\n",
        "\n",
        "            dealed_cards.append(picked_card)\n",
        "            player_turn = player_turn + 1 if player_turn < (players_amount - 1) else 0\n",
        "\n",
        "    return players_hands\n",
        "\n",
        "\n",
        "print(\"Gra:\")  \n",
        "game = deal_cards()\n",
        "for player, hand in game.items():\n",
        "    print(player, \":\", hand)\n",
        "\n",
        "print(\"\\nGra:\")    \n",
        "game = deal_cards([\"Gracz 1\", \"Gracz 2\", \"Gracz 3\", \"Gracz 4\", \"Gracz 5\", \"Gracz 6\"], 3)\n",
        "for player, hand in game.items():\n",
        "    print(player, \":\", hand)\n",
        "\n",
        "try:\n",
        "    game = deal_cards([\"Gracz 1\", \"Gracz 2\", \"Gracz 3\", \"Gracz 4\", \"Gracz 5\", \"Gracz 6\"], 12)\n",
        "    print(\"\\nGra:\")    \n",
        "    for player, hand in game.items():\n",
        "        print(player, \":\", hand)\n",
        "except ValueError as err:\n",
        "    print(f\"\\nBłąd gry:\\n{err}\")"
      ]
    },
    {
      "cell_type": "markdown",
      "metadata": {},
      "source": [
        "<hr style=\\\"height: 3px; background-color: black;\\\" />\n",
        "<h2>Zadanie 8</h2>\n",
        "<p>Napisz funkcję, która wczytuje z pliku zawierającego imiona i nazwiska osób zapisane po jednym w linii, np.\n",
        "<pre>\n",
        "Marek Markowski\n",
        "Paweł Budzikowski\n",
        "</pre>\n",
        "Funkcja generuje dla podanej listy adresy e-mail postaci: imie.nazwisko@domena (parametr funkcji) i zapisuje dane do nowego pliku dopisując przy wcześniejszym nazwisku wygenerowany adres, np.\n",
        "\n",
        "Marek Markowski, marek.markowski@student.uwm.edu.pl itd.\n",
        "\n",
        "W nazwach e-mail powinny być zastępowane ewentualne polskie znaki (ż,ź na z, ą na a itd.).</p>"
      ]
    },
    {
      "cell_type": "code",
      "execution_count": 8,
      "metadata": {},
      "outputs": [],
      "source": [
        "from faker import Faker\n",
        "\n",
        "\n",
        "faker = Faker('pl_PL')\n",
        "\n",
        "people_amount = 30\n",
        "people = [f\"{faker.first_name()} {faker.last_name()}\" for _ in range(people_amount)]\n",
        "file_name = \"zadanie_8/osoby.txt\"\n",
        "\n",
        "with open(file_name, 'w', encoding='utf-8') as f:\n",
        "    for idx, person in enumerate(people):\n",
        "        if idx < people_amount - 1:\n",
        "            f.write(person + \"\\n\")\n",
        "        else:\n",
        "            f.write(person)\n"
      ]
    },
    {
      "cell_type": "code",
      "execution_count": 9,
      "metadata": {},
      "outputs": [],
      "source": [
        "from unidecode import unidecode\n",
        "\n",
        "\n",
        "def assign_emails(source_file_name: str, target_file_name: str, email_domain: str):    \n",
        "    with open(source_file_name, \"r\", encoding=\"utf-8\") as source_file, open(target_file_name, \"w\", encoding=\"utf-8\") as target_file:\n",
        "        source_file_lines = source_file.readlines()\n",
        "\n",
        "        for idx, person in enumerate(source_file_lines):\n",
        "            first_name, last_name = unidecode(person).strip().split()\n",
        "            target_file.write(f\"{person.strip()}, {first_name.lower()}.{last_name.lower()}@{email_domain}\" + (\"\\n\" if (idx < len(source_file_lines) - 1) else \"\"))\n",
        "\n",
        "\n",
        "assign_emails(\"zadanie_8/osoby.txt\", \"zadanie_8/emaile.txt\", \"student.uwm.edu.pl\")\n"
      ]
    },
    {
      "cell_type": "markdown",
      "metadata": {},
      "source": [
        "<hr style=\\\"height: 3px; background-color: black;\\\" />\n",
        "<h2>Zadanie 9</h2>\n",
        "<p>Przygotuj plik z kilkoma hasłami, które nadają się do gry 'Koło fortuny'. Wczytaj te hasła do listy i losuj jedno z nich. Na ekranie wyświetlaj hasło bez ujawniania poszczególnych liter, np.:___ _____ ___ __ _______ dla hasła 'Bez pracy nie ma kołaczy'. Nastepnie w pętli pozwalaj uzytkownikowi na podawanie jednej litery, która będzie podstawiana w miejscach gdzie występuje lub wyświetlaj komunikat, że takiej litery nie ma w haśle. Dodaj też funkcjonalność, która pozwala na odgadnięcie (wpisanie) całego hasła.</p>"
      ]
    },
    {
      "cell_type": "code",
      "execution_count": 10,
      "metadata": {},
      "outputs": [
        {
          "name": "stdout",
          "output_type": "stream",
          "text": [
            "Aby zakończyć grę wpisz \"rezygnacja\"\n",
            "___ _____ ___ __ _______\n"
          ]
        },
        {
          "name": "stdout",
          "output_type": "stream",
          "text": [
            "Wybrana litera: k\n",
            "___ _____ ___ __ k______\n",
            "Wybrana litera: o\n",
            "___ _____ ___ __ ko_____\n",
            "Wybrana litera: a\n",
            "___ __a__ ___ _a ko_a___\n",
            "Wybrana litera: r\n",
            "___ _ra__ ___ _a ko_a___\n",
            "Wybrana litera: ł\n",
            "___ _ra__ ___ _a koła___\n",
            "Wybrana litera: w\n",
            "Litery w nie ma w haśle.\n",
            "___ _ra__ ___ _a koła___\n",
            "Wybrana litera: z\n",
            "__z _ra__ ___ _a koła_z_\n",
            "Wybrana litera: b\n",
            "B_z _ra__ ___ _a koła_z_\n",
            "Wybrana litera: a\n",
            "B_z _ra__ ___ _a koła_z_\n",
            "Wybrana litera: o\n",
            "B_z _ra__ ___ _a koła_z_\n",
            "Wybrana litera: c\n",
            "B_z _rac_ ___ _a kołacz_\n",
            "Wybrana litera: n\n",
            "B_z _rac_ n__ _a kołacz_\n",
            "Wybrana litera: e\n",
            "Bez _rac_ n_e _a kołacz_\n",
            "Wybrana litera: p\n",
            "Bez prac_ n_e _a kołacz_\n",
            "Wybrana litera: y\n",
            "Bez pracy n_e _a kołaczy\n",
            "Wybrana litera: i\n",
            "Bez pracy nie _a kołaczy\n",
            "Wybrana litera: m\n",
            "Bez pracy nie ma kołaczy\n",
            "Wygrana!\n"
          ]
        }
      ],
      "source": [
        "import random\n",
        "import regex\n",
        "\n",
        "\n",
        "def find_letter_indexes_in_string(string: str, letter: str):\n",
        "    indexes = []\n",
        "    for i in range(len(string)):\n",
        "        if string[i].lower() == letter.lower():\n",
        "            indexes.append(i)\n",
        "    return indexes\n",
        "\n",
        "\n",
        "def swap_letters_on_indexes(original_string: str, text: str, indexes: list[int]):\n",
        "    text_list = list(text)\n",
        "    for idx in indexes:\n",
        "        if 0 <= idx < len(text):\n",
        "            text_list[idx] = original_string[idx]\n",
        "    return ''.join(text_list)\n",
        "\n",
        "\n",
        "phrases_file_name = \"zadanie_9/phrases.txt\"\n",
        "\n",
        "with open(phrases_file_name, \"r\", encoding=\"utf-8\") as phrases_file:\n",
        "    phrases_list = []\n",
        "    for line in phrases_file:\n",
        "        phrases_list.append(line.strip())\n",
        "\n",
        "    chosed_phrase = random.choice(phrases_list)\n",
        "    hidden_phrase = regex.sub(r'\\p{L}', \"_\", chosed_phrase)\n",
        "\n",
        "    answer = \"\"\n",
        "    print(\"Aby zakończyć grę wpisz \\\"rezygnacja\\\"\")\n",
        "    print(hidden_phrase)\n",
        "    \n",
        "    while answer != \"rezygnacja\" and \"_\" in hidden_phrase:\n",
        "        answer = input(\"Podaj literę:\")\n",
        "\n",
        "        if answer == \"rezygnacja\":\n",
        "            break\n",
        "\n",
        "        while len(answer) != 1 and answer != \"rezygnacja\":\n",
        "            answer = input(\"Błąd. Podaj literę:\")\n",
        "        \n",
        "        print(f\"Wybrana litera: {answer}\")\n",
        "        \n",
        "        if answer.lower() in chosed_phrase.lower():\n",
        "            found_letters_indexes = find_letter_indexes_in_string(chosed_phrase, answer)\n",
        "            hidden_phrase = swap_letters_on_indexes(chosed_phrase, hidden_phrase, found_letters_indexes)\n",
        "        else:\n",
        "            print(f\"Litery {answer} nie ma w haśle.\")\n",
        "\n",
        "        print(hidden_phrase)\n",
        "    \n",
        "    if not \"_\" in hidden_phrase:\n",
        "        print(\"Wygrana!\")\n",
        "    if answer == \"rezygnacja\":\n",
        "        print(f\"Przegrana. Hasło to: {chosed_phrase}\")"
      ]
    }
  ],
  "metadata": {
    "kernelspec": {
      "display_name": "Python 3",
      "language": "python",
      "name": "python3"
    },
    "language_info": {
      "codemirror_mode": {
        "name": "ipython",
        "version": 3
      },
      "file_extension": ".py",
      "mimetype": "text/x-python",
      "name": "python",
      "nbconvert_exporter": "python",
      "pygments_lexer": "ipython3",
      "version": "3.11.5"
    }
  },
  "nbformat": 4,
  "nbformat_minor": 2
}
