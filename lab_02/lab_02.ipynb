{
 "cells": [
  {
   "cell_type": "markdown",
   "id": "f9cf2aa3-6841-4ead-ae73-cd4a216dfeed",
   "metadata": {
    "tags": []
   },
   "source": [
    "<h1 style=\"text-align: center\">lab_02, Artur Żarnoch, <b>162686</b></h1>"
   ]
  },
  {
   "cell_type": "markdown",
   "id": "eb1b8e0b-cd86-495d-92a3-39a245670ccd",
   "metadata": {
    "tags": []
   },
   "source": [
    "<h2 style=\"display:inline\">Zadanie <b>1</b></h2>"
   ]
  },
  {
   "cell_type": "code",
   "execution_count": null,
   "id": "f7c1955e-e327-4aa6-be5b-3e9612c407bf",
   "metadata": {
    "tags": []
   },
   "outputs": [],
   "source": [
    "input_data = input(\"Linia danych rozdzielonych jakimś separatorem (spacja, średnik, itd.):\\n\")\n",
    "source_sep = input('Separator źródłowy:\\n')\n",
    "target_sep = input('Separator docelowy:\\n')\n",
    " \n",
    "splitted_data = input_data.split(source_sep)\n",
    "print(\"Linia danych rozdzielonych separatorem docelowym:\\n\", target_sep.join(splitted_data))\n",
    "print(\"Linia danych rozdzielonych separatorem docelowym z użyciem wbudowanej metody:\\n\", input_data.replace(source_sep, target_sep))"
   ]
  },
  {
   "cell_type": "markdown",
   "id": "5f7f2670-69c8-4ef6-a197-17f31c12aa70",
   "metadata": {},
   "source": [
    "<hr style=\"height: 3px; background-color: black;\" />\n",
    "<h2>Zadanie <b>2</b></h2>"
   ]
  },
  {
   "cell_type": "code",
   "execution_count": null,
   "id": "984c06c3-83f4-438b-a477-20ce55113b58",
   "metadata": {
    "tags": []
   },
   "outputs": [],
   "source": [
    "input_data = input(\"Wprowadź łańcuch znaków:\\n\")\n",
    "\n",
    "while len(input_data) < 2:\n",
    "    input_data = input(\"Niepoprawna długość łańcucha.\\nMinimalna długość: 2\\nWprowadź łańcuch znaków:\\n\")\n",
    "    \n",
    "half_split = []\n",
    "half_split.extend([input_data[0:(len(input_data)//2)], input_data[len(input_data)//2:]])\n",
    "print(half_split)\n",
    "\n",
    "reversed_data = input_data[::-2]\n",
    "print(reversed_data)"
   ]
  },
  {
   "cell_type": "markdown",
   "id": "22e75183-b859-4d9f-8ced-0defedcab619",
   "metadata": {
    "tags": []
   },
   "source": [
    "<hr style=\"height: 3px; background-color: black;\" />\n",
    "<h2>Zadanie <b>3</b></h2>"
   ]
  },
  {
   "cell_type": "code",
   "execution_count": null,
   "id": "9b2ed8ff-b71a-4aca-b7bf-f5ada3e9affd",
   "metadata": {
    "tags": []
   },
   "outputs": [],
   "source": [
    "import random\n",
    "import string\n",
    "\n",
    "data = \"Dowolny ciąg znaków\"\n",
    "\n",
    "print(f\"Łańcuch: {data}\")\n",
    "print(f\"data.title(): {data.title()}\")\n",
    "print(f\"data.capitalize(): {data.capitalize()}\")\n",
    "print(f\"data.zfill(): {data.zfill(random.randint(19, 50))}\")\n",
    "print(f\"data.upper(): {data.upper()}\")\n",
    "\n",
    "random_letter = random.choice(string.ascii_lowercase)\n",
    "print(f\"Ilość liter '{random_letter}' w łańcuchu:\", data.count(random_letter))\n",
    "\n",
    "random_spaces = random.randint(0, 100)\n",
    "print(f\"Ilość centrujących znaków: {random_spaces}\\n\", data.center(random_spaces))"
   ]
  },
  {
   "cell_type": "markdown",
   "id": "6d2fb29a-6e93-40ed-b1ad-2f635d105a33",
   "metadata": {},
   "source": [
    "<hr style=\"height: 3px; background-color: black;\" />\n",
    "<h2>Zadanie <b>4</b></h2>"
   ]
  },
  {
   "cell_type": "code",
   "execution_count": null,
   "id": "83ba7254-ce28-4125-91d3-cd79ad897a09",
   "metadata": {
    "tags": []
   },
   "outputs": [],
   "source": [
    "input_data = input(\"Wprowadź łańcuch znaków:\")\n",
    "print(f\"Łańcuch: {input_data} || input_data.isalpha(): {input_data.isalpha()}\")\n",
    "print(f\"Łańcuch: {input_data} || input_data.isascii(): {input_data.isascii()}\")\n",
    "print(f\"Łańcuch: {input_data} || input_data.isprintable(): {input_data.isprintable()}\")\n",
    "print(f\"Łańcuch: {input_data} || input_data.istitle(): {input_data.istitle()}\")\n",
    "print(f\"Łańcuch: {input_data} || input_data.isupper(): {input_data.isupper()}\")\n",
    "print(f\"Łańcuch: {input_data} || input_data.isdecimal(): {input_data.isdecimal()}\")"
   ]
  },
  {
   "cell_type": "markdown",
   "id": "8e6c6d70-2b5f-40f5-8ae4-c8867176cadf",
   "metadata": {},
   "source": [
    "<hr style=\"height: 3px; background-color: black;\" />\n",
    "<h2>Zadanie <b>5</b></h2>"
   ]
  },
  {
   "cell_type": "code",
   "execution_count": null,
   "id": "4f79abfc-4e90-441b-b56b-319a55ab84c9",
   "metadata": {
    "tags": []
   },
   "outputs": [],
   "source": [
    "print(\"{:=10d}\".format(23), '{:=+10d}'.format(7), \"=\"*10, \"{:=10d}\".format(30), sep=\"\\n\", end=\"\\n\\n\")\n",
    "print('{:010d}'.format(5))\n",
    "print('{:^50}'.format('centered'))\n",
    "print('{:_<20}'.format('lefted'))\n",
    "print('{:{align}{width}}'.format('another_center', align='^', width='50'))"
   ]
  },
  {
   "cell_type": "markdown",
   "id": "acab286d-aa88-4a81-a04e-bcfd5da64ab0",
   "metadata": {},
   "source": [
    "<hr style=\"height: 3px; background-color: black;\" />\n",
    "\n",
    "<h2>Zadanie <b>6</b></h2>"
   ]
  },
  {
   "cell_type": "code",
   "execution_count": null,
   "id": "14679c58-4171-46d0-95ef-2e8bf2a4c351",
   "metadata": {
    "tags": []
   },
   "outputs": [],
   "source": [
    "print(\"\\u039B\", \"\\u042F\", \"\\u03A4\", \"\\u03B0\", \"\\u211C\", sep=\"\")\n",
    "print(\"\\u20BF\", \"\\u00A3\")\n",
    "print(\"\\u2730\", end=\"\\n\\n\")\n",
    "\n",
    "# Szachownica\n",
    "print(\"\\u265C\", \"\\u265E\", \"\\u265D\", \"\\u265B\", \"\\u265A\", \"\\u265D\", \"\\u265E\", \"\\u265C\") # ciężkie figury czarnej strony\n",
    "print(\"\\u265F \" * 8)  # czarne piony\n",
    "print(\"\\u25A1 \\u25A0 \" * 4) # kratki (start: białe)\n",
    "print(\"\\u25A0 \\u25A1 \" * 4) # kratki (start: czarne)\n",
    "print(\"\\u25A1 \\u25A0 \" * 4) # kratki (start: białe)\n",
    "print(\"\\u25A0 \\u25A1 \" * 4) # kratki (start: czarne)\n",
    "print(\"\\u2659 \" * 8) # białe piony\n",
    "print(\"\\u2656 \\u2658 \\u2657 \\u2655 \\u2654 \\u2657 \\u2658 \\u2656\") # ciężkie figury białej strony"
   ]
  }
 ],
 "metadata": {
  "kernelspec": {
   "display_name": "Python 3 (ipykernel)",
   "language": "python",
   "name": "python3"
  },
  "language_info": {
   "codemirror_mode": {
    "name": "ipython",
    "version": 3
   },
   "file_extension": ".py",
   "mimetype": "text/x-python",
   "name": "python",
   "nbconvert_exporter": "python",
   "pygments_lexer": "ipython3",
   "version": "3.11.5"
  }
 },
 "nbformat": 4,
 "nbformat_minor": 5
}
