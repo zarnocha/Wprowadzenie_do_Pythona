{
 "cells": [
  {
   "cell_type": "markdown",
   "metadata": {},
   "source": [
    "<h1 style=\"text-align: center;\">lab_08, Artur Żarnoch, <b>162686</b></h1>"
   ]
  },
  {
   "cell_type": "markdown",
   "metadata": {},
   "source": [
    "<hr style=\\\"height: 3px; background-color: black;\\\" />\n",
    "<h2>Zadanie 1</h2>\n",
    "<p>Wykorzystując przykład z listingu 2 napisz kod, który przetestuje czas inicjowania tablicy znaków oraz wartości całkowitych (typ int i long) i porówna z czasem zainicjowania listy z takimi samymi wartościami.</p>"
   ]
  },
  {
   "cell_type": "code",
   "execution_count": 21,
   "metadata": {},
   "outputs": [
    {
     "name": "stdout",
     "output_type": "stream",
     "text": [
      "Chars:\n",
      "Tab: 5.099568400008138\n",
      "List: 1.0513194000232033\n",
      "\n",
      "\n",
      "Ints:\n",
      "Tab: 4.621964499994647\n",
      "List: 0.9192514999886043\n",
      "\n",
      "\n",
      "Longs:\n",
      "Tab: 4.5213677999563515\n",
      "List: 1.8803830000106245\n",
      "\n",
      "\n",
      "Comparison:\n",
      "Chars: tab > list ? True\n",
      "Ints: tab > list ? True\n",
      "Longs: tab > list ? True\n"
     ]
    }
   ],
   "source": [
    "import random \n",
    "from timeit import timeit\n",
    "import string\n",
    "\n",
    "\n",
    "random_int_values = [int(random.random() * 100) for _ in range(1_000_000)]\n",
    "random_str_values = [random.choice(string.ascii_lowercase) for _ in range(1_000_000)]\n",
    "\n",
    "setup = \"\"\"\n",
    "from array import array\n",
    "\"\"\"\n",
    "\n",
    "tab_of_chars = f\"\"\"\n",
    "tab_of_chars = array('u', {random_str_values})\n",
    "\"\"\"\n",
    "tab_of_ints = f\"\"\"\n",
    "tab_of_ints = array('i', {random_int_values})\n",
    "\"\"\"\n",
    "tab_of_longs = f\"\"\"\n",
    "tab_of_longs = array('l', {random_int_values})\n",
    "\"\"\"\n",
    "\n",
    "list_of_chars = f\"\"\"\n",
    "list_of_chars = list({random_str_values})\n",
    "\"\"\"\n",
    "list_of_ints = f\"\"\"\n",
    "list_of_ints = list({random_int_values})\n",
    "\"\"\"\n",
    "list_of_longs = f\"\"\"\n",
    "list_of_longs = list({random_int_values})\n",
    "\"\"\"\n",
    "\n",
    "# tabs\n",
    "time_of_tab_of_chars = timeit(tab_of_chars, setup, number=100)\n",
    "time_of_tab_of_ints  = timeit(tab_of_ints, setup, number=100)\n",
    "time_of_tab_of_longs = timeit(tab_of_longs, setup, number=100)\n",
    "\n",
    "# lists \n",
    "time_of_list_of_chars = timeit(list_of_chars, setup, number=100)\n",
    "time_of_list_of_ints  = timeit(list_of_ints, setup, number=100)\n",
    "time_of_list_of_longs = timeit(list_of_longs, setup, number=100)\n",
    "\n",
    "data_types = {\n",
    "    \"Chars\": {\"Tab\": time_of_tab_of_chars, \"List\": time_of_list_of_chars},\n",
    "    \"Ints\": {\"Tab\": time_of_tab_of_ints, \"List\": time_of_list_of_ints},\n",
    "    \"Longs\": {\"Tab\": time_of_tab_of_longs, \"List\": time_of_list_of_longs}\n",
    "}\n",
    "\n",
    "for data_type, times in data_types.items():\n",
    "    print(data_type + \":\")\n",
    "    for data_structure, time in times.items():\n",
    "        print(f\"{data_structure}: {time}\")\n",
    "    print(\"\\n\")\n",
    "\n",
    "print(\"Comparison:\")\n",
    "for data_type, times in data_types.items():\n",
    "    print(f\"{data_type}: tab > list ? {times['Tab'] > times['List']}\")\n"
   ]
  },
  {
   "cell_type": "markdown",
   "metadata": {},
   "source": [
    "<hr style=\\\"height: 3px; background-color: black;\\\" />\n",
    "<h2>Zadanie 2</h2>\n",
    "<p>Zmierz czas operacji zapisu i ładowania danych z tablicy i listy z listingu 3. Użyj do tego modułu <code>datetime</code> . Wnioski ?<p>"
   ]
  },
  {
   "cell_type": "code",
   "execution_count": 47,
   "metadata": {},
   "outputs": [
    {
     "name": "stdout",
     "output_type": "stream",
     "text": [
      "Zapis danych do tablicy: 0:00:00.025614\n",
      "Odczyt danych z tablicy: 0:00:00.008009\n",
      "\n",
      "Zapis danych do listy: 0:00:10.022140\n",
      "Odczyt danych z listy: 0:00:00.325906\n",
      "\n",
      "Zapis i odczyt danych w tablicy jest dużo szybszy z uwagi na operowanie na binarnym trybie pliku.\n"
     ]
    }
   ],
   "source": [
    "import random \n",
    "from array import array\n",
    "from datetime import datetime\n",
    "\n",
    "random_float_values = [random.random() for _ in range(1_000_000)]\n",
    "\n",
    "start_time = datetime.now()\n",
    "tab_of_floats = array('f', random_float_values)\n",
    "with open('floats_array.bin', 'wb') as file_arr:\n",
    "    tab_of_floats.tofile(file_arr)\n",
    "end_time = datetime.now()\n",
    "print(f\"Zapis danych do tablicy: {end_time-start_time}\")\n",
    "\n",
    "start_time = datetime.now()\n",
    "tab_of_floats_loaded = array('f')\n",
    "with open('floats_array.bin', 'rb') as file_arr:\n",
    "    tab_of_floats_loaded.fromfile(file_arr, 1_000_000)\n",
    "end_time = datetime.now()\n",
    "print(f\"Odczyt danych z tablicy: {end_time-start_time}\\n\")\n",
    "\n",
    "start_time = datetime.now()\n",
    "list_of_floats = list(random_float_values)\n",
    "with open('floats_list.bin', 'w') as file_list:\n",
    "    file_list.writelines('\\n'.join([str(x) for x in list_of_floats]))\n",
    "end_time = datetime.now()\n",
    "print(f\"Zapis danych do listy: {end_time-start_time}\")\n",
    "\n",
    "start_time = datetime.now()\n",
    "list_of_floats_loaded = list()\n",
    "with open('floats_list.bin', 'r') as file_list:\n",
    "    list_of_floats_loaded = file_list.readlines()\n",
    "end_time = datetime.now()\n",
    "print(f\"Odczyt danych z listy: {end_time-start_time}\")\n",
    "\n",
    "print(\"\\nZapis i odczyt danych w tablicy jest dużo szybszy z uwagi na operowanie na binarnym trybie pliku.\")"
   ]
  },
  {
   "cell_type": "markdown",
   "metadata": {},
   "source": [
    "<hr style=\\\"height: 3px; background-color: black;\\\" />\n",
    "<h2>Zadanie 3</h2>\n",
    "<p>Napisz kod, który porówna czas wykonania operacji <code>append</code> i <code>append left</code> na obiekcie typu <code>deque</code> oraz analogicznie <code>append</code> i <code>insert(0)</code> dla obiektu typu <code>list</code>.</p>"
   ]
  },
  {
   "cell_type": "code",
   "execution_count": 48,
   "metadata": {},
   "outputs": [
    {
     "name": "stdout",
     "output_type": "stream",
     "text": [
      "append:\n",
      "deque: 4.099973011761904e-06\n",
      "list: 1.00000761449337e-06\n",
      "\n",
      "\n",
      "appendleft:\n",
      "deque: 3.00002284348011e-06\n",
      "list: 1.9000144675374031e-06\n",
      "\n",
      "\n",
      "Comparison:\n",
      "append: deque > list ? True\n",
      "appendleft: deque > list ? True\n"
     ]
    }
   ],
   "source": [
    "from timeit import timeit\n",
    "\n",
    "\n",
    "setup = \"\"\"\n",
    "from collections import deque\n",
    "kolejka = deque()\n",
    "lista = list()\n",
    "\"\"\"\n",
    "\n",
    "deque_append_time = f\"\"\"\n",
    "kolejka.append(2)\n",
    "\"\"\"\n",
    "\n",
    "deque_appendleft_time = f\"\"\"\n",
    "kolejka.appendleft(1)\n",
    "\"\"\"\n",
    "\n",
    "list_append_time = f\"\"\"\n",
    "lista.append(2)\n",
    "\"\"\"\n",
    "\n",
    "list_insert_time = f\"\"\"\n",
    "lista.insert(0, 1)\n",
    "\"\"\"\n",
    "\n",
    "time_of_deque_append = timeit(deque_append_time, setup, number=1)\n",
    "time_of_deque_appendleft = timeit(deque_appendleft_time, setup, number=1)\n",
    "time_of_list_append = timeit(list_append_time, setup, number=1)\n",
    "time_of_list_insert = timeit(list_insert_time, setup, number=1)\n",
    "\n",
    "method_times = {\n",
    "    \"append\": {\"deque\": time_of_deque_append, \"list\": time_of_list_append},\n",
    "    \"appendleft\": {\"deque\": time_of_deque_appendleft, \"list\": time_of_list_insert},\n",
    "}\n",
    "\n",
    "for method_time, times in method_times.items():\n",
    "    print(method_time + \":\")\n",
    "    for object_type, time in times.items():\n",
    "        print(f\"{object_type}: {time}\")\n",
    "    print(\"\\n\")\n",
    "\n",
    "print(\"Comparison:\")\n",
    "for object_type, times in method_times.items():\n",
    "    print(f\"{object_type}: deque > list ? {times['deque'] > times['list']}\")\n"
   ]
  },
  {
   "cell_type": "markdown",
   "metadata": {},
   "source": [
    "<hr style=\\\"height: 3px; background-color: black;\\\" />\n",
    "<h2>Zadanie 4</h2>\n",
    "<p>Wykorzystaj plik <code>zamówienia.txt</code> z lab 6 i załaduj część jego zawartości (kilka rekordów) do krotek nazwanych tak, że pola tej krotki są dynamicznie definiowane na podstawie wartości z pierwszego wiersza tego pliku (etykiety).</p>"
   ]
  },
  {
   "cell_type": "code",
   "execution_count": 117,
   "metadata": {},
   "outputs": [
    {
     "name": "stdout",
     "output_type": "stream",
     "text": [
      "Order(Kraj='Polska', Sprzedawca='Kowalski', Data_zamowienia='16.07.2003', idZamowienia='10248', Utarg='440,00 z')\n",
      "Order(Kraj='Polska', Sprzedawca='Sowiski', Data_zamowienia='10.07.2003', idZamowienia='10249', Utarg='1 863,40 z')\n",
      "Order(Kraj='Niemcy', Sprzedawca='Peacock', Data_zamowienia='12.07.2003', idZamowienia='10250', Utarg='1 552,60 z')\n",
      "Order(Kraj='Niemcy', Sprzedawca='Leverling', Data_zamowienia='15.07.2003', idZamowienia='10251', Utarg='654,06 z')\n",
      "Order(Kraj='Niemcy', Sprzedawca='Peacock', Data_zamowienia='11.07.2003', idZamowienia='10252', Utarg='3 597,90 z')\n",
      "Order(Kraj='Niemcy', Sprzedawca='Leverling', Data_zamowienia='16.07.2003', idZamowienia='10253', Utarg='1 444,80 z')\n",
      "Order(Kraj='Polska', Sprzedawca='Kowalski', Data_zamowienia='23.07.2003', idZamowienia='10254', Utarg='556,62 z')\n",
      "Order(Kraj='Polska', Sprzedawca='Dudek', Data_zamowienia='15.07.2003', idZamowienia='10255', Utarg='2 490,50 z')\n",
      "Order(Kraj='Niemcy', Sprzedawca='Leverling', Data_zamowienia='17.07.2003', idZamowienia='10256', Utarg='517,80 z')\n",
      "Order(Kraj='Niemcy', Sprzedawca='Peacock', Data_zamowienia='22.07.2003', idZamowienia='10257', Utarg='1 119,90 z')\n"
     ]
    }
   ],
   "source": [
    "from collections import namedtuple\n",
    "\n",
    "\n",
    "orders_file_name = \"zamowienia.txt\"\n",
    "\n",
    "with open(orders_file_name, encoding=\"utf-8\", errors=\"ignore\", newline='') as f:\n",
    "    labels = f.readline().strip().split(\";\")\n",
    "\n",
    "    # musiałem zamienić spację na podkreślnik bo namedtuple wykorzystuje do tworzenia etykiet metodę .isidentifier()\n",
    "    # która nie przepuszcza spacji\n",
    "    labels = [label.replace(\" \", \"_\") for label in labels]\n",
    "    Order = namedtuple(\"Order\", labels)\n",
    "\n",
    "    for _ in range(1, 11):\n",
    "        record = f.readline().strip().split(\";\")\n",
    "        single_order = Order._make(record)\n",
    "        print(single_order)\n"
   ]
  },
  {
   "cell_type": "markdown",
   "metadata": {},
   "source": [
    "<hr style=\\\"height: 3px; background-color: black;\\\" />\n",
    "<h2>Zadanie 5</h2>\n",
    "<p>Napisz funkcję, która z tablicy wartości liczbowych będzie zwracała 10% najwyższych wartości.</p>"
   ]
  },
  {
   "cell_type": "code",
   "execution_count": 64,
   "metadata": {},
   "outputs": [
    {
     "name": "stdout",
     "output_type": "stream",
     "text": [
      "[98, 98, 98, 96, 96, 93, 93, 92, 92, 90]\n"
     ]
    }
   ],
   "source": [
    "def get_top_10_percent(values):\n",
    "    sorted_values = sorted(values, reverse=True)\n",
    "    top_10_percent = sorted_values[:int(len(sorted_values) * 0.1)]\n",
    "    return top_10_percent\n",
    "\n",
    "array_with_values = [int(random.random() * 100) for _ in range(100)]\n",
    "print(get_top_10_percent(array_with_values))\n"
   ]
  },
  {
   "cell_type": "markdown",
   "metadata": {},
   "source": [
    "<hr style=\\\"height: 3px; background-color: black;\\\" />\n",
    "<h2>Zadanie 6</h2>\n",
    "<p>Zdefiniuj funkcję o nazwie <code>create_kolo_fortuny(*args)</code>, która przyjmuje nieokreśloną listę argumentów pozycyjnych. Z tej listy argumentów tworzony jest obiekt typu <code>Counter</code>, a funkcja zwraca obiekt typu <code >deque</code> z elementami tegoż licznika.</p>"
   ]
  },
  {
   "cell_type": "code",
   "execution_count": 1,
   "metadata": {},
   "outputs": [],
   "source": [
    "from collections import Counter, deque\n",
    "\n",
    "\n",
    "def create_kolo_fortuny(*args):\n",
    "    counter = Counter(*args)\n",
    "    return deque(counter)\n"
   ]
  },
  {
   "cell_type": "markdown",
   "metadata": {},
   "source": [
    "<hr style=\\\"height: 3px; background-color: black;\\\" />\n",
    "<h2>Zadanie 7</h2>\n",
    "<p>Korzystając z kodu umieszczonego poniżej oraz wykorzystując funkcję zdefiniowaną w zadaniu 6 napisz rozwiązanie, które będzie operowało na zwracanej kolejce z zadania 6, wykonując jej rotację, i wyświetlało tak jak w funkcji <code>spinit</code> aktualne wartości \"koła fortuny\", aż zatrzyma się na właściwym (można przyjąć, że będzie to pierwszy element kolejki). Wykonaj kilka obrotów kołem dla przetestowania kodu (wartości obrotu mogą być \"na sztywno\" lub losowane).</p>"
   ]
  },
  {
   "cell_type": "code",
   "execution_count": 4,
   "metadata": {},
   "outputs": [
    {
     "name": "stdout",
     "output_type": "stream",
     "text": [
      "Twoja nagroda to: 100 000 zl                   \n",
      "Twoja nagroda to: 100 000 zl                   \n",
      "Twoja nagroda to: 100 zl                       \n"
     ]
    }
   ],
   "source": [
    "# from IPython.display import clear_output\n",
    "from datetime import datetime\n",
    "\n",
    "def spinit(ticks: int, kolo_fortuny: deque):\n",
    "    # shuffle(kolo_fortuny)\n",
    "    import time\n",
    "    import numpy as np\n",
    "\n",
    "    waits = np.logspace(0.0, 1.0, num=ticks) / ticks\n",
    "\n",
    "    for tick in range(ticks):\n",
    "        # dodałem pseudolosowość za pomocą mikrosekund, żeby było ciekawiej\n",
    "        kolo_fortuny.rotate(tick * (datetime.now().microsecond % 10))\n",
    "        \n",
    "        # słabo zrobione czyszczenie outputu, ale nie miałem lepszego pomysłu\n",
    "        # chciałem użyć `clear_output()` ale wtedy nie było widać poprzednich losowań\n",
    "        print(f'Nagroda: {kolo_fortuny[0]}', \" \" * 25, end=\"\\r\")\n",
    "        time.sleep(waits[tick])\n",
    "        # clear_output()\n",
    "\n",
    "    return kolo_fortuny.popleft()\n",
    "\n",
    "\n",
    "awards = [\"10 zl\", \"100 zl\", \"1 000 zl\", \"100 000 zl\", \"1 000 000 zl\"]\n",
    "\n",
    "kolo_fortuny = create_kolo_fortuny(awards)\n",
    "print(\"Twoja nagroda to:\", spinit(len(awards), kolo_fortuny))\n",
    "\n",
    "kolo_fortuny = create_kolo_fortuny(awards)\n",
    "print(\"Twoja nagroda to:\", spinit(len(awards), kolo_fortuny))\n",
    "\n",
    "kolo_fortuny = create_kolo_fortuny(awards)\n",
    "print(\"Twoja nagroda to:\", spinit(len(awards), kolo_fortuny))"
   ]
  }
 ],
 "metadata": {
  "kernelspec": {
   "display_name": "Python 3",
   "language": "python",
   "name": "python3"
  },
  "language_info": {
   "codemirror_mode": {
    "name": "ipython",
    "version": 3
   },
   "file_extension": ".py",
   "mimetype": "text/x-python",
   "name": "python",
   "nbconvert_exporter": "python",
   "pygments_lexer": "ipython3",
   "version": "3.12.2"
  }
 },
 "nbformat": 4,
 "nbformat_minor": 2
}
