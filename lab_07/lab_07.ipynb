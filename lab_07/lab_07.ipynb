{
 "cells": [
  {
   "cell_type": "markdown",
   "metadata": {},
   "source": [
    "<h1 style=\\\"text-align: 'center'\\\">lab_07, Artur Żarnoch, <b>162686</b></h1>"
   ]
  },
  {
   "cell_type": "markdown",
   "metadata": {},
   "source": [
    "<hr style=\\\"height: 3px; background-color: black;\\\" />\n",
    "<h2>Zadanie 1</h2>\n",
    "<p>Wykorzystując wbudowaną funkcję `isinstance` oraz `filter` napisz funkcję <pre>extract_numbers(vals: list[Any]) -> list[int | float]</pre> która z podanej listy dowolnych obiektów odfiltruje tylko obiekty typu `int` oraz `float` i zwróci listę je zawierającą.</p>"
   ]
  },
  {
   "cell_type": "code",
   "execution_count": 6,
   "metadata": {},
   "outputs": [
    {
     "name": "stdout",
     "output_type": "stream",
     "text": [
      "[4, 6.544, 162686, 99.98]\n"
     ]
    }
   ],
   "source": [
    "def extract_numbers(vals: list[any]) -> list[int | float]:\n",
    "    return list(filter(lambda val: isinstance(val, int) or isinstance(val, float), vals))\n",
    "\n",
    "\n",
    "print(extract_numbers([\"A\", 4, \"C\", 6.544, \"E\", 162686, 99.98, \"H\"]))\n"
   ]
  },
  {
   "cell_type": "markdown",
   "metadata": {},
   "source": [
    "<hr style=\\\"height: 3px; background-color: black;\\\" />\n",
    "<h2>Zadanie 2</h2>\n",
    "<p>Wykorzystując funkcję sorted i funkcję anonimową (lambda) posortuj listę wyrazów (wprowadzaną przez input) według ilości znaków w wyrazie malejąco.</p>"
   ]
  },
  {
   "cell_type": "code",
   "execution_count": 4,
   "metadata": {},
   "outputs": [
    {
     "name": "stdout",
     "output_type": "stream",
     "text": [
      "Przed: ['ab', 'cde', 'fghi', 'j']\n",
      "Po: ['fghi', 'cde', 'ab', 'j']\n"
     ]
    }
   ],
   "source": [
    "sentence = input(\"Wprowadź listę wyrazów:\")\n",
    "splited_sentence = sentence.split(\" \")\n",
    "print(\"Przed:\", splited_sentence)\n",
    "sorted_sentence = sorted(splited_sentence, key=lambda word: len(word), reverse=True)\n",
    "print(\"Po:\", sorted_sentence)\n"
   ]
  },
  {
   "cell_type": "markdown",
   "metadata": {},
   "source": [
    "<hr style=\\\"height: 3px; background-color: black;\\\" />\n",
    "<h2>Zadanie 3</h2>\n",
    "<p>Wykorzystując funkcję `sorted` napisz funkcję, która będzie sortowała listę zawierająca wartości typu `int` oraz `str` (może wystąpić tylko jeden lub oba typy danych). Funkcja posiada atrybut domyślny `reversed=False`, który oznacza, że zwrócona lista będzie najpierw zawierała liczby posortowane rosnąco, a następnie łańcuchy znaków. Wartość `True` tego atrybutu oznaczać będzie w liście wyjściowej najpierw łańcuchy znaków, a później liczby.</p>"
   ]
  },
  {
   "cell_type": "code",
   "execution_count": 155,
   "metadata": {},
   "outputs": [
    {
     "name": "stdout",
     "output_type": "stream",
     "text": [
      "1): [2, 3, 1]\n",
      "reversed=False | asc: 1): [1, 2, 3]\n",
      "reversed=True | desc: 1): [3, 2, 1] \n",
      "\n",
      "2): ['b', 'c', 'a']\n",
      "reversed=False | asc: 2): ['a', 'b', 'c']\n",
      "reversed=True | desc: 2): ['c', 'b', 'a'] \n",
      "\n",
      "3): [1, 'b', 3, 'd']\n",
      "reversed=False | asc: 3): [1, 3, 'b', 'd']\n",
      "reversed=True | desc: 3): ['b', 'd', 1, 3] \n",
      "\n"
     ]
    }
   ],
   "source": [
    "from typing import Union\n",
    "\n",
    "\n",
    "def sort_values(list_to_sort: Union[list[int], list[str], list[Union[int, str]]], reversed=False):\n",
    "    list_has_only_ints = True\n",
    "    list_has_only_strs = True\n",
    "    \n",
    "    for el in list_to_sort:\n",
    "        if isinstance(el, int):\n",
    "            list_has_only_strs = False\n",
    "        elif isinstance(el, str):\n",
    "            list_has_only_ints = False\n",
    "            \n",
    "    if not list_has_only_strs and not list_has_only_ints:\n",
    "        return sorted(list_to_sort, key=lambda v: 0 if isinstance(v, int) else 1, reverse=reversed)\n",
    "    else:\n",
    "        return sorted(list_to_sort, reverse=reversed)    \n",
    "\n",
    "\n",
    "lists_to_sort = [[2, 3, 1], [\"b\", \"c\", \"a\"], [1, \"b\", 3, \"d\"]]\n",
    "\n",
    "for i, list_to_sort in enumerate(lists_to_sort):\n",
    "    print(f\"{i+1}):\", list_to_sort)\n",
    "    print(\"reversed=False | asc:\", f\"{i+1}):\", sort_values(list_to_sort, False))\n",
    "    print(\"reversed=True | desc:\", f\"{i+1}):\", sort_values(list_to_sort, True), \"\\n\")\n"
   ]
  },
  {
   "cell_type": "markdown",
   "metadata": {},
   "source": [
    "<hr style=\\\"height: 3px; background-color: black;\\\" />\n",
    "<h2>Zadanie 4</h2>\n",
    "<p>Przepisz (ale kod umieść w tym labie) zadania 1 z labu numer 6, tak aby gdzie to możliwe użyć funkcji map.</p>"
   ]
  },
  {
   "cell_type": "code",
   "execution_count": 94,
   "metadata": {},
   "outputs": [],
   "source": [
    "import csv\n",
    "import datetime\n",
    "\n",
    "\n",
    "def save_takings(orders: list[dict[str, str]], filename: str, columns: list[str]) -> None:\n",
    "    with open(filename, \"w\", newline=\"\", encoding=\"utf-8\") as file:\n",
    "        writer = csv.DictWriter(file, fieldnames=columns, delimiter=\";\")\n",
    "        writer.writeheader()\n",
    "        writer.writerows(orders)\n",
    "\n",
    "\n",
    "orders_file_name = \"zadanie_4/zamowienia.csv\"\n",
    "polish_orders_file_name = \"zadanie_4/zamowienia_polska.csv\"\n",
    "german_orders_file_name = \"zadanie_4/zamowienia_niemcy.csv\"\n",
    "\n",
    "with open(orders_file_name, encoding=\"utf-8\", errors=\"ignore\", newline='') as f:\n",
    "    reader = csv.DictReader(f, delimiter=\";\")\n",
    "    columns = reader.fieldnames\n",
    "    \n",
    "    listed = list(reader)\n",
    "    listed = list(map(lambda row: {\n",
    "        **row,\n",
    "        \"Utarg\": row[\"Utarg\"].rstrip(\" z\").replace(\",\", \".\").replace(\" \", \"\"),\n",
    "        \"Data zamowienia\": datetime.datetime.strptime(row[\"Data zamowienia\"], \"%d.%m.%Y\").strftime('%Y-%m-%d'),\n",
    "    }, listed))\n",
    "    \n",
    "    polish_orders = list(filter(None, map(lambda row: row if row[\"Kraj\"] == \"Polska\" else None, listed)))\n",
    "    german_orders = list(filter(None, map(lambda row: row if row[\"Kraj\"] == \"Niemcy\" else None, listed)))\n",
    "\n",
    "    save_takings(polish_orders, polish_orders_file_name, columns)\n",
    "    save_takings(german_orders, german_orders_file_name, columns)\n"
   ]
  },
  {
   "cell_type": "markdown",
   "metadata": {},
   "source": [
    "<hr style=\\\"height: 3px; background-color: black;\\\" />\n",
    "<h2>Zadanie 5</h2>\n",
    "<p>Napisz funkcję, która będzie sortowała słownik postaci <pre>{'Jan': [1, 3, 4, 7], ...}</pre> na podstawie funkcji przekazanej jako argument. Ogranicz jej działanie do listy wartości typu `int`. Wykorzystaj funkcje wbudowane <pre>min, max, sum, abs</pre> jako wartości argumentu wejściowego.</p>"
   ]
  },
  {
   "cell_type": "code",
   "execution_count": 154,
   "metadata": {},
   "outputs": [
    {
     "name": "stdout",
     "output_type": "stream",
     "text": [
      "min : {'Jan': [10, 20, -30, 40], 'Anna': [1, 1, 1, 5], 'Kamil': [1, 2, 3, 4]}\n",
      "max : {'Kamil': [1, 2, 3, 4], 'Anna': [1, 1, 1, 5], 'Jan': [10, 20, -30, 40]}\n",
      "sum : {'Anna': [1, 1, 1, 5], 'Kamil': [1, 2, 3, 4], 'Jan': [10, 20, -30, 40]}\n",
      "<lambda> : {'Anna': [1, 1, 1, 5], 'Kamil': [1, 2, 3, 4], 'Jan': [10, 20, -30, 40]}\n"
     ]
    }
   ],
   "source": [
    "required_funcs = [min, max, sum, lambda list_to_sort: sum(abs(v) for v in list_to_sort)]\n",
    "\n",
    "\n",
    "def sort_by_function(dict_to_sort: dict[str, list[int]], func):\n",
    "    if func not in required_funcs: raise Exception(\"Argument `func` musi być jedną z: \" + \", \".join([f.__name__ for f in required_funcs]))\n",
    "    return dict(sorted(dict_to_sort.items(), key=lambda v: func(v[1])))\n",
    "\n",
    "\n",
    "dict_to_sort = {'Jan': [10, 20, -30, 40], 'Anna': [1, 1, 1, 5], 'Kamil': [1, 2, 3, 4]}\n",
    "\n",
    "for function in required_funcs:\n",
    "    print(function.__name__, \":\", sort_by_function(dict_to_sort, function))\n"
   ]
  }
 ],
 "metadata": {
  "kernelspec": {
   "display_name": "Python 3",
   "language": "python",
   "name": "python3"
  },
  "language_info": {
   "codemirror_mode": {
    "name": "ipython",
    "version": 3
   },
   "file_extension": ".py",
   "mimetype": "text/x-python",
   "name": "python",
   "nbconvert_exporter": "python",
   "pygments_lexer": "ipython3",
   "version": "3.12.2"
  }
 },
 "nbformat": 4,
 "nbformat_minor": 2
}
