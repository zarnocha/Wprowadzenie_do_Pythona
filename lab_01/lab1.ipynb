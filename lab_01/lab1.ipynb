{
 "cells": [
  {
   "cell_type": "markdown",
   "metadata": {},
   "source": [
    "<h1>Zadanie <b>1</b></h1>\n",
    "<hr />"
   ]
  },
  {
   "cell_type": "code",
   "execution_count": 91,
   "metadata": {},
   "outputs": [
    {
     "name": "stdout",
     "output_type": "stream",
     "text": [
      "378\n",
      "602\n"
     ]
    }
   ],
   "source": [
    "sample_int = int(\"17A\", 16)\n",
    "print(sample_int)\n",
    "sample_int_2 = int(\"1001011010\", 2)\n",
    "print(sample_int_2)"
   ]
  },
  {
   "cell_type": "code",
   "execution_count": 92,
   "metadata": {},
   "outputs": [
    {
     "name": "stdout",
     "output_type": "stream",
     "text": [
      "60220000.00\n",
      "0.00155030\n"
     ]
    }
   ],
   "source": [
    "sample_float = float('6.022e7')\n",
    "print(f\"{sample_float:.02f}\")\n",
    "\n",
    "sample_float_2 = float('1.5503e-03')\n",
    "print(\"{:.8f}\".format(sample_float_2))\n"
   ]
  },
  {
   "cell_type": "markdown",
   "metadata": {},
   "source": [
    "<hr />\n",
    "<h1>Zadanie <b>2</b></h1>\n",
    "<hr />"
   ]
  },
  {
   "cell_type": "code",
   "execution_count": 93,
   "metadata": {},
   "outputs": [
    {
     "name": "stdout",
     "output_type": "stream",
     "text": [
      "82.48 jest typu \"float\".\n",
      "13.91 jest typu \"float\".\n",
      "20.03 jest typu \"float\".\n",
      "31.98 jest typu \"float\".\n",
      "2.54 jest typu \"float\".\n",
      "56186 jest typu \"int\", ilość bitów:  11\n",
      "91685 jest typu \"int\", ilość bitów:  8\n",
      "49555 jest typu \"int\", ilość bitów:  7\n"
     ]
    }
   ],
   "source": [
    "import random\n",
    "\n",
    "\n",
    "def generate_int_or_float():\n",
    "    # 50% szans na wylosowanie `int`a lub `float`a \n",
    "    if random.random() < 0.5:\n",
    "        return round(random.random() * 100, 2)\n",
    "    else:\n",
    "        return random.randint(1, 100000)\n",
    "    \n",
    "for _ in range(8):\n",
    "    random_number = generate_int_or_float()\n",
    "    \n",
    "    if float.is_integer(float(random_number)):\n",
    "        print(f\"{random_number} jest typu \\\"int\\\", ilość bitów: \", int.bit_count(random_number))\n",
    "    else:\n",
    "        print(f\"{random_number} jest typu \\\"float\\\".\")\n",
    "\n"
   ]
  },
  {
   "cell_type": "markdown",
   "metadata": {},
   "source": [
    "<hr />\n",
    "<h1>Zadanie <b>3</b></h1>\n",
    "<hr />"
   ]
  },
  {
   "cell_type": "code",
   "execution_count": 94,
   "metadata": {},
   "outputs": [
    {
     "name": "stdout",
     "output_type": "stream",
     "text": [
      "Liczba 47 w systemie binarnym: 0b101111\n",
      "Liczba 0b101111 w systemie binarnym: 47\n"
     ]
    }
   ],
   "source": [
    "integer_to_binary = bin(47)\n",
    "print(f\"Liczba 47 w systemie binarnym: {integer_to_binary}\")\n",
    "binary_to_integer = int(integer_to_binary, 2)\n",
    "print(f\"Liczba {integer_to_binary} w systemie binarnym: {binary_to_integer}\")"
   ]
  },
  {
   "cell_type": "markdown",
   "metadata": {},
   "source": [
    "<hr />\n",
    "<h1>Zadanie <b>4</b></h1>\n",
    "<hr />"
   ]
  },
  {
   "cell_type": "code",
   "execution_count": 95,
   "metadata": {},
   "outputs": [
    {
     "name": "stdout",
     "output_type": "stream",
     "text": [
      "2^16 to 65536\n",
      "------------------------------\n",
      "2226 jest parzysta\n",
      "------------------------------\n",
      "-897\n",
      "------------------------------\n",
      "9\n"
     ]
    }
   ],
   "source": [
    "def two_power(power: int):\n",
    "    if not isinstance(power, int):\n",
    "            raise TypeError(\"Oczekiwano argumentu typu int\")\n",
    "    \n",
    "    return 1 << power\n",
    "\n",
    "\n",
    "print(f\"2^16 to {two_power(16)}\")\n",
    "\n",
    "\n",
    "# ----------------------------------------------------------\n",
    "print(\"-\" * 30)\n",
    "# ----------------------------------------------------------\n",
    "\n",
    "\n",
    "def check_number_parity(value: int):\n",
    "     '''\n",
    "     Jeżeli funkcja zwróci 0 - liczba jest parzysta,\n",
    "     jeżeli funkcja zwróci 1 - liczba jest nieparzysta\n",
    "     '''\n",
    "     return value & 1\n",
    "\n",
    "\n",
    "def is_integer_even(value: int):\n",
    "    if not isinstance(value, int):\n",
    "        raise TypeError(\"Oczekiwano argumentu typu int\")\n",
    "    if value < 1:\n",
    "         raise ValueError(\"Oczekiwano wartości większej od 0\")\n",
    "\n",
    "    is_number_odd = check_number_parity(value)\n",
    "\n",
    "    if not is_number_odd:\n",
    "         print(f\"{value} jest parzysta\")\n",
    "    elif is_number_odd:\n",
    "         print(f\"{value} jest nieparzysta\")\n",
    "\n",
    "\n",
    "is_integer_even(2226)\n",
    "\n",
    "\n",
    "# ----------------------------------------------------------\n",
    "print(\"-\" * 30)\n",
    "# ----------------------------------------------------------\n",
    "\n",
    "\n",
    "def invert_a_number(value: int) -> int:\n",
    "     if not isinstance(value, int):\n",
    "        raise TypeError(\"Oczekiwano argumentu typu int\")\n",
    "     return ~value + 1\n",
    "\n",
    "\n",
    "print(invert_a_number(897))\n",
    "\n",
    "\n",
    "# ----------------------------------------------------------\n",
    "print(\"-\" * 30)\n",
    "# ----------------------------------------------------------\n",
    "\n",
    "\n",
    "def division_without_remainder(value: int):\n",
    "    if not isinstance(value, int):\n",
    "        raise TypeError(\"Oczekiwano argumentu typu int\")\n",
    "    \n",
    "    return value >> 1\n",
    "\n",
    "print(division_without_remainder(19))"
   ]
  },
  {
   "cell_type": "markdown",
   "metadata": {},
   "source": [
    "<hr />\n",
    "<h1>Zadanie <b>5</b></h1>\n",
    "<hr />"
   ]
  },
  {
   "cell_type": "code",
   "execution_count": 102,
   "metadata": {},
   "outputs": [
    {
     "name": "stdout",
     "output_type": "stream",
     "text": [
      "Pierwotna wartość: 16.45\n",
      "Wartość 16.45 jako hex: 0x1.0733333333333p+4\n",
      "Wartość 0x1.0733333333333p+4 jako float: 16.45\n"
     ]
    }
   ],
   "source": [
    "float_value = 16.45\n",
    "print(f\"Pierwotna wartość: {float_value}\")\n",
    "\n",
    "float_value_to_hex = float_value.hex()\n",
    "print(f\"Wartość {float_value} jako hex: {float_value_to_hex}\")\n",
    "\n",
    "hex_value_to_float = float.fromhex(float_value_to_hex)\n",
    "print(f\"Wartość {float_value_to_hex} jako float: {hex_value_to_float}\")"
   ]
  }
 ],
 "metadata": {
  "kernelspec": {
   "display_name": "Python 3",
   "language": "python",
   "name": "python3"
  },
  "language_info": {
   "codemirror_mode": {
    "name": "ipython",
    "version": 3
   },
   "file_extension": ".py",
   "mimetype": "text/x-python",
   "name": "python",
   "nbconvert_exporter": "python",
   "pygments_lexer": "ipython3",
   "version": "3.12.2"
  }
 },
 "nbformat": 4,
 "nbformat_minor": 2
}
