{
 "cells": [
  {
   "cell_type": "markdown",
   "id": "983c40b2-da0e-41c1-b1f4-8e6625fc03e1",
   "metadata": {},
   "source": [
    "<h1 style=\\\"text-align: center\\\">lab_03, Artur Żarnoch, <b>162686</b></h1>\n",
    "<hr />"
   ]
  },
  {
   "cell_type": "markdown",
   "id": "caf171d1-fe7c-4540-a90c-f0a12ed9cbd7",
   "metadata": {},
   "source": [
    "<h2>Zadanie 1</h2>"
   ]
  },
  {
   "cell_type": "code",
   "execution_count": 1,
   "id": "28b66e96-68a8-4cda-b41c-7b3ca61d2d02",
   "metadata": {
    "tags": []
   },
   "outputs": [
    {
     "name": "stdout",
     "output_type": "stream",
     "text": [
      "first_part: [1, 2, 3, 4, 5] second_part: [6, 7, 8, 9, 10]\n"
     ]
    }
   ],
   "source": [
    "numbers = [i for i in range(1, 11)]\n",
    "first_part, *second_part = numbers[:5], *numbers[5:]\n",
    "print(f\"first_part: {first_part}\", f\"second_part: {second_part}\")\n",
    "\n",
    "first_part, *second_part = numbers[:5], *numbers[5:]"
   ]
  },
  {
   "cell_type": "markdown",
   "id": "5742bb65-71f2-48b2-ae47-e228b0b9f25f",
   "metadata": {},
   "source": [
    "<hr style=\\\"height: 3px; background-color: black;\\\" />"
   ]
  },
  {
   "cell_type": "markdown",
   "id": "87579f9c-cd89-4a81-b3d6-12e2aa130661",
   "metadata": {},
   "source": [
    "<h2>Zadanie 2</h2>"
   ]
  },
  {
   "cell_type": "code",
   "execution_count": 2,
   "id": "de2e0fdc-1251-4e03-8278-a071dc6f8f07",
   "metadata": {
    "tags": []
   },
   "outputs": [
    {
     "name": "stdout",
     "output_type": "stream",
     "text": [
      "combined_parts: [1, 2, 3, 4, 5, 6, 7, 8, 9, 10]\n",
      "\n",
      "combined_copy: [0, 1, 2, 3, 4, 5, 6, 7, 8, 9, 10]\n",
      "combined_copy: [10, 9, 8, 7, 6, 5, 4, 3, 2, 1, 0]\n",
      "nienaruszona lista `combined_parts`: [1, 2, 3, 4, 5, 6, 7, 8, 9, 10]\n"
     ]
    }
   ],
   "source": [
    "combined_parts = first_part + second_part\n",
    "print(f\"combined_parts: {combined_parts}\")\n",
    "\n",
    "combined_copy = combined_parts[:]\n",
    "combined_copy.insert(0, 0)\n",
    "print(f\"\\ncombined_copy: {combined_copy}\")\n",
    "\n",
    "combined_copy.sort(reverse=True)\n",
    "print(f\"combined_copy: {combined_copy}\")\n",
    "print(f\"nienaruszona lista `combined_parts`: {combined_parts}\")"
   ]
  },
  {
   "cell_type": "markdown",
   "id": "db60f673-06a0-443d-9d88-fd30d3ea3d84",
   "metadata": {},
   "source": [
    "<hr style=\\\"height: 3px; background-color: black;\\\" />"
   ]
  },
  {
   "cell_type": "markdown",
   "id": "4943a973-f553-43ef-9176-b4c320c0f358",
   "metadata": {},
   "source": [
    "<h2>Zadanie 3</h2>"
   ]
  },
  {
   "cell_type": "code",
   "execution_count": 3,
   "id": "17e521dc-d3ef-493c-b4c7-390bd5d3c406",
   "metadata": {
    "tags": []
   },
   "outputs": [
    {
     "name": "stdin",
     "output_type": "stream",
     "text": [
      "Wprowadź dowolny tekst: AbEcAdŁo\n"
     ]
    },
    {
     "name": "stdout",
     "output_type": "stream",
     "text": [
      "Posortowany alfabetycznie ciąg unikalnych znaków z wczytanego zdania: abcdeoł\n"
     ]
    }
   ],
   "source": [
    "text = input(\"Wprowadź dowolny tekst:\")\n",
    "\n",
    "unique_letters = list(set(text.lower()))\n",
    "unique_letters.sort()\n",
    "\n",
    "print(f\"Posortowany alfabetycznie ciąg unikalnych znaków z wczytanego zdania: {''.join(unique_letters)}\")"
   ]
  },
  {
   "cell_type": "markdown",
   "id": "d2aa3b6e-5329-4361-bd7d-1585b1410764",
   "metadata": {},
   "source": [
    "<hr style=\\\"height: 3px; background-color: black;\\\" />"
   ]
  },
  {
   "cell_type": "markdown",
   "id": "e5dc3396-ea97-46c6-aed7-357cce29b7ce",
   "metadata": {},
   "source": [
    "<h2>Zadanie 4</h2>"
   ]
  },
  {
   "cell_type": "code",
   "execution_count": 4,
   "id": "11278704-abfd-4cb0-bd4e-e2ea67f02549",
   "metadata": {
    "tags": []
   },
   "outputs": [
    {
     "name": "stdout",
     "output_type": "stream",
     "text": [
      "1.  styczeń\n",
      "2.  luty\n",
      "3.  marzec\n",
      "4.  kwiecień\n",
      "5.  maj\n",
      "6.  czerwiec\n",
      "7.  lipiec\n",
      "8.  sierpień\n",
      "9.  wrzesień\n",
      "10. październik\n",
      "11. listopad\n",
      "12. grudzień\n"
     ]
    }
   ],
   "source": [
    "pl_months = {\n",
    "    1: \"styczeń\",\n",
    "    2: \"luty\",\n",
    "    3: \"marzec\",\n",
    "    4: \"kwiecień\",\n",
    "    5: \"maj\",\n",
    "    6: \"czerwiec\",\n",
    "    7: \"lipiec\",\n",
    "    8: \"sierpień\",\n",
    "    9: \"wrzesień\",\n",
    "    10: \"październik\",\n",
    "    11: \"listopad\",\n",
    "    12: \"grudzień\"\n",
    "}\n",
    "\n",
    "for number, month in pl_months.items():\n",
    "    print(f\"{str(number) + '.' : <4}{month}\")"
   ]
  },
  {
   "cell_type": "markdown",
   "id": "51fa4665-300e-497e-a31b-620e032b9363",
   "metadata": {},
   "source": [
    "<hr style=\\\"height: 3px; background-color: black;\\\" />"
   ]
  },
  {
   "cell_type": "markdown",
   "id": "6b3c4f50-8605-4703-85bc-d78f86b084cf",
   "metadata": {
    "tags": []
   },
   "source": [
    "<h2>Zadanie 5</h2>"
   ]
  },
  {
   "cell_type": "code",
   "execution_count": 5,
   "id": "a5a2ab8f-e408-465b-ac7f-9bff31b3da6b",
   "metadata": {
    "tags": []
   },
   "outputs": [
    {
     "name": "stdout",
     "output_type": "stream",
     "text": [
      "Language: 'pl'\n",
      "1.  styczeń\n",
      "2.  luty\n",
      "3.  marzec\n",
      "4.  kwiecień\n",
      "5.  maj\n",
      "6.  czerwiec\n",
      "7.  lipiec\n",
      "8.  sierpień\n",
      "9.  wrzesień\n",
      "10. październik\n",
      "11. listopad\n",
      "12. grudzień\n",
      "\n",
      "\n",
      "Language: 'en'\n",
      "1.  January\n",
      "2.  February\n",
      "3.  March\n",
      "4.  April\n",
      "5.  May\n",
      "6.  June\n",
      "7.  July\n",
      "8.  August\n",
      "9.  September\n",
      "10. October\n",
      "11. November\n",
      "12. December\n",
      "\n",
      "\n"
     ]
    }
   ],
   "source": [
    "en_months = {\n",
    "    1: \"January\",\n",
    "    2: \"February\",\n",
    "    3: \"March\",\n",
    "    4: \"April\",\n",
    "    5: \"May\",\n",
    "    6: \"June\",\n",
    "    7: \"July\",\n",
    "    8: \"August\",\n",
    "    9: \"September\",\n",
    "    10: \"October\",\n",
    "    11: \"November\",\n",
    "    12: \"December\"\n",
    "}\n",
    "\n",
    "months = {\n",
    "    \"pl\": pl_months,\n",
    "    \"en\": en_months,\n",
    "}\n",
    "\n",
    "for lang in months.keys():\n",
    "    print(f\"Language: '{lang}'\")\n",
    "    for number, month in months[lang].items():\n",
    "        print(f\"{str(number) + '.' : <4}{month}\")\n",
    "    print(\"\\n\")"
   ]
  },
  {
   "cell_type": "markdown",
   "id": "1ed67d7f-2a0b-4405-a89f-8d9dd831c319",
   "metadata": {},
   "source": [
    "<hr style=\\\"height: 3px; background-color: black;\\\" />"
   ]
  },
  {
   "cell_type": "markdown",
   "id": "6d0f59be-3d9d-41c8-b12e-e725888491a0",
   "metadata": {},
   "source": [
    "<h2>Zadanie 6</h2>"
   ]
  },
  {
   "cell_type": "code",
   "execution_count": 6,
   "id": "7ef30401-de44-47ab-8cfb-315ca8ec31bf",
   "metadata": {
    "tags": []
   },
   "outputs": [
    {
     "name": "stdout",
     "output_type": "stream",
     "text": [
      "{'M': 1, 'a': 1, 'r': 1, 'i': 1, 'n': 1}\n",
      "\n",
      " -------------------- \n",
      "\n",
      "{'M': 1, 'a': 3, 'r': 1, 'i': 1, 'n': 2}\n"
     ]
    }
   ],
   "source": [
    "text = 'Marianna'\n",
    "\n",
    "list_of_chars = [*text]\n",
    "dictionary = dict.fromkeys(list_of_chars, 1)\n",
    "\n",
    "print(dictionary)\n",
    "\n",
    "# ---- Z wartościami ----\n",
    "correct_dict = dict.fromkeys(list_of_chars, 0)\n",
    "for letter in list_of_chars:\n",
    "    correct_dict[letter] += 1\n",
    "    \n",
    "print(\"\\n\", \"-\"*20, \"\\n\")\n",
    "print(correct_dict)"
   ]
  },
  {
   "cell_type": "markdown",
   "id": "caf8f823-4c1f-4af0-95e9-2e479e78e44a",
   "metadata": {},
   "source": [
    "<hr style=\\\"height: 3px; background-color: black;\\\" />"
   ]
  },
  {
   "cell_type": "markdown",
   "id": "0abb4106-0684-47eb-ae59-fbd93d9357ba",
   "metadata": {},
   "source": [
    "<h2>Zadanie 7</h2>"
   ]
  },
  {
   "cell_type": "code",
   "execution_count": 7,
   "id": "d6bc4762-5832-423e-98d9-136c4632c2e0",
   "metadata": {
    "tags": []
   },
   "outputs": [
    {
     "name": "stdin",
     "output_type": "stream",
     "text": [
      "Wprowadź dowolny tekst: a2b3C4vF6GR7vs(SRGv8srv7r7vS*RG*&sv\n"
     ]
    },
    {
     "name": "stdout",
     "output_type": "stream",
     "text": [
      "Łączna liczba znaków: 35\n",
      "Procent znaków zawartych w `string.ascii_lowercase`: 65.71%\n",
      "Procent cyfr: 22.86%\n"
     ]
    }
   ],
   "source": [
    "import string\n",
    "text = input(\"Wprowadź dowolny tekst:\")\n",
    "\n",
    "lowercase_count = sum(1 for char in text if char.lower() in string.ascii_lowercase)\n",
    "digit_count = sum(1 for char in text if char in string.digits)\n",
    "\n",
    "lowercase_percentage = (lowercase_count / len(text)) * 100\n",
    "digit_percentage = (digit_count / len(text)) * 100\n",
    "\n",
    "print(f\"Łączna liczba znaków: {len(text)}\")\n",
    "print(f\"Procent znaków zawartych w `string.ascii_lowercase`: {lowercase_percentage:.2f}%\")\n",
    "print(f\"Procent cyfr: {digit_percentage:.2f}%\")"
   ]
  },
  {
   "cell_type": "markdown",
   "id": "df711090-e7e4-4e5d-8670-c9395e25e577",
   "metadata": {},
   "source": [
    "<hr style=\\\"height: 3px; background-color: black;\\\" />"
   ]
  }
 ],
 "metadata": {
  "kernelspec": {
   "display_name": "Python 3 (ipykernel)",
   "language": "python",
   "name": "python3"
  },
  "language_info": {
   "codemirror_mode": {
    "name": "ipython",
    "version": 3
   },
   "file_extension": ".py",
   "mimetype": "text/x-python",
   "name": "python",
   "nbconvert_exporter": "python",
   "pygments_lexer": "ipython3",
   "version": "3.11.5"
  }
 },
 "nbformat": 4,
 "nbformat_minor": 5
}
