{
  "cells": [
    {
      "cell_type": "markdown",
      "metadata": {},
      "source": [
        "<h1 style=\"text-align: center;\">lab_09, Artur Żarnoch, <b>162686</b></h1>"
      ]
    },
    {
      "cell_type": "markdown",
      "metadata": {},
      "source": [
        "<hr style=\\\"height: 3px; background-color: black;\\\" />\n",
        "<h2>Zadanie 1</h2>\n",
        "<p>Zadeklaruj klasę <code>Point</code> o właściwościach <code>x</code> oraz <code>y</code> (oba typ <code>int</code>). Obie właściwości powinny posiadać domyślną wartość równą zero (wywołanie konstruktora bez podania wartości inicjalizujących).</p>"
      ]
    },
    {
      "cell_type": "code",
      "execution_count": 1,
      "metadata": {},
      "outputs": [],
      "source": [
        "class Point:\n",
        "    def __init__(self, x: int = 0, y: int = 0) -> None:\n",
        "        self.x: int = x\n",
        "        self.y: int = y\n"
      ]
    },
    {
      "cell_type": "markdown",
      "metadata": {},
      "source": [
        "<hr style=\\\"height: 3px; background-color: black;\\\" />\n",
        "<h2>Zadanie 2</h2>\n",
        "<p>Przesłoń w klasie <code>Point</code> metodę <code>__str__()</code> tak, aby zwracała tekst Point(x, y) gdzie x i y przedstawia aktualną wartość tych właściwości.</p>"
      ]
    },
    {
      "cell_type": "code",
      "execution_count": 2,
      "metadata": {},
      "outputs": [],
      "source": [
        "class Point:\n",
        "    def __init__(self, x: int = 0, y: int = 0) -> None:\n",
        "        self.x: int = x\n",
        "        self.y: int = y\n",
        "\n",
        "    def __str__(self) -> str:\n",
        "        return f\"Point({self.x}, {self.y})\"\n"
      ]
    },
    {
      "cell_type": "markdown",
      "metadata": {},
      "source": [
        "<hr style=\\\"height: 3px; background-color: black;\\\" />\n",
        "<h2>Zadanie 3</h2>\n",
        "<p>Sprawdź, czy możliwe jest pomnożenie obiektu typu <code>Point</code> przez liczbę całkowitą. Zaimplementuj taką możliwość poprzez przesłonięcie metody <code>__mul__()</code>. Przetestuj działanie.</p>"
      ]
    },
    {
      "cell_type": "code",
      "execution_count": 3,
      "metadata": {},
      "outputs": [
        {
          "name": "stdout",
          "output_type": "stream",
          "text": [
            "Mnożenie się nie powiodło, błąd: unsupported operand type(s) for *: 'Point' and 'int'\n"
          ]
        }
      ],
      "source": [
        "point = Point(3, 3)\n",
        "\n",
        "try:\n",
        "    print(\"Wynik mnożenia obiektu Point przez liczbę:\", point * 3)\n",
        "except Exception as e:\n",
        "    print(\"Mnożenie się nie powiodło, błąd:\", e)\n"
      ]
    },
    {
      "cell_type": "code",
      "execution_count": 4,
      "metadata": {},
      "outputs": [
        {
          "name": "stdout",
          "output_type": "stream",
          "text": [
            "Wynik mnożenia obiektu Point przez liczbę: Point(9, 9)\n"
          ]
        }
      ],
      "source": [
        "class Point:\n",
        "    def __init__(self, x: int = 0, y: int = 0) -> None:\n",
        "        self.x: int = x\n",
        "        self.y: int = y\n",
        "\n",
        "    def __mul__(self, value) -> Point:\n",
        "        self.x *= value\n",
        "        self.y *= value\n",
        "        return self\n",
        "\n",
        "    def __str__(self) -> str:\n",
        "        return f\"Point({self.x}, {self.y})\"\n",
        "\n",
        "\n",
        "point = Point(3, 3)\n",
        "\n",
        "try:\n",
        "    print(\"Wynik mnożenia obiektu Point przez liczbę:\", point * 3)\n",
        "except Exception as e:\n",
        "    print(\"Mnożenie się nie powiodło, błąd:\", e)\n"
      ]
    },
    {
      "cell_type": "markdown",
      "metadata": {},
      "source": [
        "<hr style=\\\"height: 3px; background-color: black;\\\" />\n",
        "<h2>Zadanie 4</h2>\n",
        "<p>Przesłoń w klasie <code>Point</code> metodę <code>__eq__()</code> odpowiedzialną za porównywanie tego obiektu (self) z innym (other) w sensie tożsamości. Wartość <code>True</code> zwracana jest tylko wtedy, gdy jest to dokładnie ten sam typ obiektu (czyli Point) oraz wartości <code>x</code> i <code>y</code> są identyczne dla obu obiektów.</p>"
      ]
    },
    {
      "cell_type": "code",
      "execution_count": 5,
      "metadata": {},
      "outputs": [
        {
          "name": "stdout",
          "output_type": "stream",
          "text": [
            "point == not_similar_point: False\n",
            "point == not_point: False\n",
            "point == similar_point: True\n"
          ]
        }
      ],
      "source": [
        "class Point:\n",
        "    def __init__(self, x: int = 0, y: int = 0) -> None:\n",
        "        self.x: int = x\n",
        "        self.y: int = y\n",
        "\n",
        "    def __mul__(self, value) -> Point:\n",
        "        self.x *= value\n",
        "        self.y *= value\n",
        "        return self\n",
        "\n",
        "    def __eq__(self, other_object: object) -> bool:\n",
        "        if (isinstance(other_object, Point)\n",
        "            and self.x == other_object.x\n",
        "            and self.y == other_object.y):\n",
        "            return True\n",
        "\n",
        "        return False\n",
        "\n",
        "    def __str__(self) -> str:\n",
        "        return f\"Point({self.x}, {self.y})\"\n",
        "\n",
        "    def __repr__(self):\n",
        "        return f\"Point({self.x}, {self.y})\"\n",
        "\n",
        "\n",
        "point = Point(3, 3)\n",
        "\n",
        "not_similar_point = Point(1, 1)\n",
        "not_point = \"Definitely not a point\"\n",
        "similar_point = Point(3, 3)\n",
        "\n",
        "print(\"point == not_similar_point:\", point == not_similar_point)\n",
        "print(\"point == not_point:\", point == not_point)\n",
        "print(\"point == similar_point:\", point == similar_point)\n"
      ]
    },
    {
      "cell_type": "markdown",
      "metadata": {},
      "source": [
        "<hr style=\\\"height: 3px; background-color: black;\\\" />\n",
        "<h2>Zadanie 5</h2>\n",
        "<p>Stwórz klasę o nazwie <code>Polygon</code> i zdefiniuj właściwość <code>points</code> typu <code>list</code>, która będzie docelowo przechowywała obiekty typu <code>Point</code>. Inicjalizuj pustą listę w konstruktorze. Zdefiniuj również metodę <code>add_point(point: Point</code>), która będzie dodawała punkt do listy.</p>"
      ]
    },
    {
      "cell_type": "code",
      "execution_count": 6,
      "metadata": {},
      "outputs": [],
      "source": [
        "class Polygon:\n",
        "    def __init__(self) -> None:\n",
        "        self.points: list[Point] = []\n",
        "\n",
        "    def add_point(self, point: Point) -> None:\n",
        "        self.points.append(point)\n"
      ]
    },
    {
      "cell_type": "markdown",
      "metadata": {},
      "source": [
        "<hr style=\\\"height: 3px; background-color: black;\\\" />\n",
        "<h2>Zadanie 6</h2>\n",
        "<p>W klasie <code>Polygon</code> przesłoń metodę <code>__str__()</code> tak, aby wypisanie <code>Polygon</code> wyglądało mniej więcej tak: Polygon[Point(2, 3), Point(1,1), ...].</p>"
      ]
    },
    {
      "cell_type": "code",
      "execution_count": 7,
      "metadata": {},
      "outputs": [
        {
          "name": "stdout",
          "output_type": "stream",
          "text": [
            "Polygon[Point(1, 2), Point(3, 4)]\n"
          ]
        }
      ],
      "source": [
        "class Polygon:\n",
        "    def __init__(self) -> None:\n",
        "        self.points: list[Point] = []\n",
        "\n",
        "    def add_point(self, point: Point) -> None:\n",
        "        self.points.append(point)\n",
        "\n",
        "    def __str__(self) -> str:\n",
        "        return f\"Polygon[{', '.join(str(point) for point in self.points)}]\"\n",
        "\n",
        "\n",
        "polygon = Polygon()\n",
        "\n",
        "point = Point(1, 2)\n",
        "polygon.add_point(point)\n",
        "\n",
        "new_point = Point(3, 4)\n",
        "polygon.add_point(new_point)\n",
        "\n",
        "print(polygon)"
      ]
    },
    {
      "cell_type": "markdown",
      "metadata": {},
      "source": [
        "<hr style=\\\"height: 3px; background-color: black;\\\" />\n",
        "<h2>Zadanie 7</h2>\n",
        "<p>W klasie <code>Polygon</code> przesłoń metodę <code>__getitem__()</code>, tak aby możliwe było zwrócenie pojedynczego punktu (item to int) oraz wycinka (item to slice). W tej metodzie obsłuż wyjątek <code>TypeError</code> jeżeli nie jest to int lub slice.</p>"
      ]
    },
    {
      "cell_type": "code",
      "execution_count": 8,
      "metadata": {},
      "outputs": [
        {
          "name": "stdout",
          "output_type": "stream",
          "text": [
            "Point(3, 4)\n",
            "[Point(5, 6), Point(7, 8)]\n",
            "Błąd: Indeks musi być typu `int` lub `slice`, nie <class 'str'>.\n"
          ]
        }
      ],
      "source": [
        "from typing import Iterable\n",
        "\n",
        "\n",
        "class Polygon:\n",
        "    def __init__(self) -> None:\n",
        "        self.points: list[Point] = []\n",
        "\n",
        "    def add_point(self, point: Point) -> None:\n",
        "        self.points.append(point)\n",
        "\n",
        "    def add_points(self, points: Iterable[Point]) -> None:\n",
        "        self.points.extend(points)\n",
        "\n",
        "    def __getitem__(self, item_index) -> Point | list[Point]:\n",
        "        if not isinstance(item_index, (int, slice)):\n",
        "            raise TypeError(f\"Indeks musi być typu `int` lub `slice`, nie {item_index.__class__}.\")\n",
        "\n",
        "        return self.points[item_index]\n",
        "\n",
        "    def __str__(self) -> str:\n",
        "        return f\"Polygon[{', '.join(str(point) for point in self.points)}]\"\n",
        "\n",
        "\n",
        "polygon = Polygon()\n",
        "points = [Point(i, i+1) for i in range(1, 8, 2)]\n",
        "polygon.add_points(points)\n",
        "\n",
        "try:\n",
        "    print(polygon[1])\n",
        "    print(polygon[2:4])\n",
        "    print(polygon[\"cztery\"])\n",
        "except TypeError as e:\n",
        "    print(\"Błąd:\", e)\n"
      ]
    }
  ],
  "metadata": {
    "kernelspec": {
      "display_name": "Python 3",
      "language": "python",
      "name": "python3"
    },
    "language_info": {
      "codemirror_mode": {
        "name": "ipython",
        "version": 3
      },
      "file_extension": ".py",
      "mimetype": "text/x-python",
      "name": "python",
      "nbconvert_exporter": "python",
      "pygments_lexer": "ipython3",
      "version": "3.12.2"
    }
  },
  "nbformat": 4,
  "nbformat_minor": 2
}
