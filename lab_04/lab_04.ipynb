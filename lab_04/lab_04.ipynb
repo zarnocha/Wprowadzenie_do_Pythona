{
 "cells": [
  {
   "cell_type": "markdown",
   "id": "58df3547-2a19-46c8-866e-3d020def1419",
   "metadata": {},
   "source": [
    "<h1 style=\\\"text-align: center\\\">lab_04, Artur Żarnoch, <b>162686</b></h1>\n",
    "<hr />"
   ]
  },
  {
   "cell_type": "markdown",
   "id": "fe9ea081-865d-41e6-8a21-80c28ca92151",
   "metadata": {
    "tags": []
   },
   "source": [
    "<h2>Zadanie 1</h2>\n",
    "<p>Napisz pętlę, która wyświetla liczby podzielne przez 5 z zakresu [0,50].</p>"
   ]
  },
  {
   "cell_type": "code",
   "execution_count": 1,
   "id": "75948884-a6f2-4e3b-8715-be8506a7a41c",
   "metadata": {
    "tags": []
   },
   "outputs": [
    {
     "name": "stdout",
     "output_type": "stream",
     "text": [
      "[5, 10, 15, 20, 25, 30, 35, 40, 45, 50]\n"
     ]
    }
   ],
   "source": [
    "numbers_divisible_by_5 = [*range(5, 51, 5)]\n",
    "\n",
    "print(numbers_divisible_by_5)"
   ]
  },
  {
   "cell_type": "markdown",
   "id": "50e01ab8-3f14-40b0-953c-9712ac10a974",
   "metadata": {},
   "source": [
    "<hr style=\\\"height: 3px; background-color: black;\\\" />"
   ]
  },
  {
   "cell_type": "markdown",
   "id": "8934563c-5b44-48d3-af82-8061aa27f23b",
   "metadata": {
    "tags": []
   },
   "source": [
    "<h2>Zadanie 2</h2>\n",
    "<p>Napisz skrypt, który rysuje diament. Użytkownik podaje wysokość nie mniej jak 3 i nie więcej jak 9, ale tylko nieparzysta wysokość.</p>"
   ]
  },
  {
   "cell_type": "code",
   "execution_count": 2,
   "id": "b9be3052-34cb-4270-97eb-e38ad201a2e8",
   "metadata": {
    "tags": []
   },
   "outputs": [
    {
     "name": "stdin",
     "output_type": "stream",
     "text": [
      "Wprowadź nieparzystą liczbę całkowitą z zakresu [3, 9]: 5\n"
     ]
    },
    {
     "name": "stdout",
     "output_type": "stream",
     "text": [
      "  o  \n",
      " ooo \n",
      "ooooo\n",
      " ooo \n",
      "  o  \n"
     ]
    }
   ],
   "source": [
    "number = input(\"Wprowadź nieparzystą liczbę całkowitą z zakresu [3, 9]:\")\n",
    "\n",
    "while not number.isnumeric() or not int(number) in [*range(3, 10, 2)]:\n",
    "    number = input(\"Błąd. Wprowadź liczbę całkowitą:\")\n",
    "\n",
    "number = int(number)\n",
    "diamond_filler = \"o\"\n",
    "\n",
    "for i in range(1, (number)*2, 2):\n",
    "    print((diamond_filler * i).center(number) if i < number else (diamond_filler * (number - abs(number-i))).center(number))\n",
    "    \n",
    "    # wersja czytelna:\n",
    "    \n",
    "    # if i > number:\n",
    "    #     print((\"*\" * (number - abs(number-i))).center(number))\n",
    "    # else:\n",
    "    #     print((\"*\" * i).center(number))"
   ]
  },
  {
   "cell_type": "markdown",
   "id": "9a5ec807-c9cf-4ba9-ab82-7379eb559999",
   "metadata": {},
   "source": [
    "<hr style=\\\"height: 3px; background-color: black;\\\" />"
   ]
  },
  {
   "cell_type": "markdown",
   "id": "05c0ce97-ec06-4680-a9d2-3e241b95dbf3",
   "metadata": {
    "tags": []
   },
   "source": [
    "<h2>Zadanie 3</h2>\n",
    "<p>Napisz skrypt, który wyświetla i oblicza tabliczkę mnożenia od 1 do 100 w formie tabeli, z wyrównaniem liczb do strony prawej, nagłówkiem kolumn i wierszy.</p>"
   ]
  },
  {
   "cell_type": "code",
   "execution_count": 3,
   "id": "0c45ba3f-30ee-4ff0-9d4b-1c91be7ca2b3",
   "metadata": {
    "tags": []
   },
   "outputs": [
    {
     "name": "stdout",
     "output_type": "stream",
     "text": [
      "               1       2       3       4       5       6       7       8       9      10\n",
      "----------------------------------------------------------------------------------------------------\n",
      "     1 |       1       2       3       4       5       6       7       8       9      10\n",
      "     2 |       2       4       6       8      10      12      14      16      18      20\n",
      "     3 |       3       6       9      12      15      18      21      24      27      30\n",
      "     4 |       4       8      12      16      20      24      28      32      36      40\n",
      "     5 |       5      10      15      20      25      30      35      40      45      50\n",
      "     6 |       6      12      18      24      30      36      42      48      54      60\n",
      "     7 |       7      14      21      28      35      42      49      56      63      70\n",
      "     8 |       8      16      24      32      40      48      56      64      72      80\n",
      "     9 |       9      18      27      36      45      54      63      72      81      90\n",
      "    10 |      10      20      30      40      50      60      70      80      90     100"
     ]
    }
   ],
   "source": [
    "values = [*range(1, 11)]\n",
    "\n",
    "for i in values:\n",
    "    i != 1 and print(\"\\n\", end=\"\")\n",
    "    \n",
    "    if i == 1:\n",
    "        for j in values:\n",
    "            if j == 1:\n",
    "                print(\" \" * 8, end=\"\") \n",
    "            print(f\"{j}\".rjust(8), end=\"\" if j < 10 else \"\\n\")\n",
    "        print(\"-\"*100)\n",
    "            \n",
    "    print(f\"{i} |\".rjust(8), end=\"\")\n",
    "    for j in values:\n",
    "        print(f\"{i * j}\".rjust(8), end=\"\")"
   ]
  },
  {
   "cell_type": "markdown",
   "id": "b16cc2a3-236d-4b3a-9ce0-b65cd9d4d7e7",
   "metadata": {},
   "source": [
    "<hr style=\\\"height: 3px; background-color: black;\\\" />"
   ]
  },
  {
   "cell_type": "markdown",
   "id": "4905c123-62bd-4c1b-99fd-679ebfa233e8",
   "metadata": {
    "tags": []
   },
   "source": [
    "<h2>Zadanie 4</h2>\n",
    "<p>Pobieraj z klawiatury wartość w postaci liczby całkowitej, a następnie wyświetl ją w postaci liczby binarnej, ósemkowej i szesnastkowej.</p>"
   ]
  },
  {
   "cell_type": "code",
   "execution_count": 4,
   "id": "567e742d-7163-49af-be32-4bbf30666fdd",
   "metadata": {
    "tags": []
   },
   "outputs": [
    {
     "name": "stdin",
     "output_type": "stream",
     "text": [
      "Wprowadź nieujemną liczbę całkowitą: 16\n"
     ]
    },
    {
     "name": "stdout",
     "output_type": "stream",
     "text": [
      "Liczba w postaci binarnej: 0b10000\n",
      "Liczba w postaci ósemkowej: 0o20\n",
      "Liczba w postaci szesnastkowej: 0x10\n"
     ]
    }
   ],
   "source": [
    "number = input(\"Wprowadź nieujemną liczbę całkowitą:\")\n",
    "while not number.isnumeric():\n",
    "    number = input(\"Błąd. Wprowadź liczbę całkowitą:\")\n",
    "    \n",
    "number = int(number)\n",
    "\n",
    "print(\"Liczba w postaci binarnej:\", bin(number))\n",
    "print(\"Liczba w postaci ósemkowej:\", oct(number))\n",
    "print(\"Liczba w postaci szesnastkowej:\", hex(number))"
   ]
  },
  {
   "cell_type": "markdown",
   "id": "22e60f71-7d5c-48f6-97d9-5119b66234c3",
   "metadata": {},
   "source": [
    "<hr style=\\\"height: 3px; background-color: black;\\\" />"
   ]
  },
  {
   "cell_type": "markdown",
   "id": "2bb053c3-8e18-4f5f-8f7b-05c6c2e51bfc",
   "metadata": {
    "tags": []
   },
   "source": [
    "<h2>Zadanie 5</h2>\n",
    "<p>Napisz skrypt, który pobiera od użytkownika wartość i sprawdzaj czy podana wartość jest rzutowalna na typ int i float i wyświetl stosowne komunikaty.</p>"
   ]
  },
  {
   "cell_type": "code",
   "execution_count": 5,
   "id": "c5c43186-6a17-4425-ab21-704bced799f6",
   "metadata": {
    "tags": []
   },
   "outputs": [
    {
     "name": "stdin",
     "output_type": "stream",
     "text": [
      "Wprowadź liczbę całkowitą: 16.7\n"
     ]
    },
    {
     "name": "stdout",
     "output_type": "stream",
     "text": [
      "16.7 NIE jest typu `int`.\n",
      "16.7 jest typu `float`.\n"
     ]
    }
   ],
   "source": [
    "number = input(\"Wprowadź liczbę całkowitą:\")\n",
    "\n",
    "try:\n",
    "    isNumberInt = int(number)\n",
    "    print(f\"{number} jest typu `int`.\")\n",
    "except ValueError:\n",
    "    print(f\"{number} NIE jest typu `int`.\")\n",
    "\n",
    "try:\n",
    "    isNumberFloat = float(number)\n",
    "    print(f\"{number} jest typu `float`.\")\n",
    "except ValueError:\n",
    "    print(f\"{number} NIE jest typu `float`.\")"
   ]
  },
  {
   "cell_type": "markdown",
   "id": "60af5943-5a72-4f5b-b25b-cb43b1259838",
   "metadata": {},
   "source": [
    "<hr style=\\\"height: 3px; background-color: black;\\\" />"
   ]
  },
  {
   "cell_type": "markdown",
   "id": "256c2624-12b7-422e-901b-d6012a74675f",
   "metadata": {
    "tags": []
   },
   "source": [
    "<h2>Zadanie 6</h2>\n",
    "<p>Napisz skrypt, który pobiera od użytkownika wartość liczbową, a następnie wyświetla na konsoli zdanie w postaci: \"Podaną liczbę można zapisać jako: ...\", gdzie zapis będzie w postaci sumy iloczynów liczb dla każdego rzędu. Np. liczba 123: \"Podaną liczbę można zapisać jako: 100 * 1 + 10 * 2 + 1 * 3\". Do pobrania i wypisania wartości użyj odpowiednio instrukcji readline() i write() z modułu sys).</p>"
   ]
  },
  {
   "cell_type": "markdown",
   "id": "51a743e6-c88e-4674-9211-46abeaab2297",
   "metadata": {},
   "source": [
    "<h1>Zadanie w oddzielnym pliku <a href=\"./lab_04_zadanie_6.py\">lab_04_zadanie_6.py</a></h1>"
   ]
  },
  {
   "cell_type": "markdown",
   "id": "85c1e04f-e672-4cca-9d8d-f9138441e023",
   "metadata": {},
   "source": [
    "<hr style=\\\"height: 3px; background-color: black;\\\" />"
   ]
  },
  {
   "cell_type": "markdown",
   "id": "ccc38222-13b6-4d68-ab93-f4e7634be1f4",
   "metadata": {
    "tags": []
   },
   "source": [
    "<h2>Zadanie 7</h2>\n",
    "<p>Wykorzystaj moduł this (sprawdź jego kod źródłowy) i korzystając z umieszczonego tam słownika kodującego (sprawdź dostępne zmienne modułu this) napisz skrypt, który będzie kodował tym słownikiem wpisywane zdanie (przechwytuj z klawiatury). Wypisuj na konsoli zakodowane zdanie.</p>"
   ]
  },
  {
   "cell_type": "code",
   "execution_count": 7,
   "id": "cc21373e-a2d8-4d2f-b4fc-6d6105e89d76",
   "metadata": {
    "tags": []
   },
   "outputs": [
    {
     "name": "stdin",
     "output_type": "stream",
     "text": [
      "Wprowadź zdanie: Lorem ipsum dolor sit amet, consectetur adipiscing elit. Praesent sit amet maximus felis, at dapibus urna.\n"
     ]
    },
    {
     "name": "stdout",
     "output_type": "stream",
     "text": [
      "\n",
      "Zakodowane zdanie:\n",
      "Yberz vcfhz qbybe fvg nzrg, pbafrpgrghe nqvcvfpvat ryvg. Cenrfrag fvg nzrg znkvzhf sryvf, ng qncvohf hean.\n",
      "\n",
      "Odkodowane zdanie:\n",
      "Lorem ipsum dolor sit amet, consectetur adipiscing elit. Praesent sit amet maximus felis, at dapibus urna.\n"
     ]
    }
   ],
   "source": [
    "import codecs\n",
    "\n",
    "def encode_sentence(sentence):\n",
    "    # to ROT13 encoding\n",
    "    d = {}\n",
    "    for c in (65, 97):\n",
    "        for i in range(26):\n",
    "            d[chr(i+c)] = chr((i+13) % 26 + c)\n",
    "\n",
    "    return \"\".join([d.get(c, c) for c in sentence])\n",
    "\n",
    "sentence = input(\"Wprowadź zdanie:\")\n",
    "encoded_sentence = encode_sentence(sentence)\n",
    "\n",
    "print(\"\\nZakodowane zdanie:\")\n",
    "print(encoded_sentence)\n",
    "\n",
    "print(\"\\nOdkodowane zdanie:\")\n",
    "print(codecs.decode(encoded_sentence, \"rot-13\"))"
   ]
  },
  {
   "cell_type": "markdown",
   "id": "df5ec6dc-8a2e-4049-b087-31808b9fc194",
   "metadata": {},
   "source": [
    "<hr style=\\\"height: 3px; background-color: black;\\\" />"
   ]
  },
  {
   "cell_type": "markdown",
   "id": "90b486c0-28ba-4efe-9b59-b4050c81ce50",
   "metadata": {
    "tags": []
   },
   "source": [
    "<h2>Zadanie 8</h2>\n",
    "<p>Napisz skrypt, który pobiera z klawiatury zdanie, a na konsoli wyświetla wyrazy z tego zdania posortowane według ich długości rosnąco</p>"
   ]
  },
  {
   "cell_type": "code",
   "execution_count": 8,
   "id": "b828e142-9c05-47ca-ab3b-cdac22b1f6a8",
   "metadata": {
    "tags": []
   },
   "outputs": [
    {
     "name": "stdin",
     "output_type": "stream",
     "text": [
      "Wprowadź zdanie: Dywidenda to główna forma wynagrodzenia dla wspólników lub akcjonariuszy.\n"
     ]
    },
    {
     "name": "stdout",
     "output_type": "stream",
     "text": [
      "Zdanie posortowane wg długości rosnąco:\n",
      " to dla lub forma główna Dywidenda wspólników wynagrodzenia akcjonariuszy\n",
      "\n",
      "\n",
      "Zdanie posortowane wg długości malejąco:\n",
      " wynagrodzenia akcjonariuszy wspólników Dywidenda główna forma dla lub to\n"
     ]
    }
   ],
   "source": [
    "sentence = input(\"Wprowadź zdanie:\")\n",
    "\n",
    "divided_sentence = sentence.strip(\".\").split(\" \")\n",
    "\n",
    "sorted_sentence = divided_sentence.copy()\n",
    "sorted_sentence.sort(key=len)\n",
    "\n",
    "print(\"Zdanie posortowane wg długości rosnąco:\\n\", \" \".join(sorted_sentence))\n",
    "print(\"\\n\")\n",
    "sorted_sentence.sort(key=len, reverse=True)\n",
    "print(\"Zdanie posortowane wg długości malejąco:\\n\", \" \".join(sorted_sentence))"
   ]
  },
  {
   "cell_type": "markdown",
   "id": "8c1d6f69-5714-4f38-ba82-9838c0ad024f",
   "metadata": {},
   "source": [
    "<hr style=\\\"height: 3px; background-color: black;\\\" />"
   ]
  },
  {
   "cell_type": "markdown",
   "id": "4edf127f-3a9c-4ea5-a5b1-8052551871e4",
   "metadata": {
    "tags": []
   },
   "source": [
    "<h2>Zadanie 9</h2>\n",
    "<p>Napisz skrypt, który z tabeli dostępnej pod <a href=\"http://prawolaffera.pl/uniwersalny-kod-przemowien\">tym adresem</a> (dane należy zaszyć w skrypcie na stałe) będzie generował n zdań na konsolę. Ilość zdań podawana jest przez użytkownika z klawiatury</p>"
   ]
  },
  {
   "cell_type": "code",
   "execution_count": 9,
   "id": "24de1edd-9e81-4639-91fa-ad2897f237f6",
   "metadata": {
    "tags": []
   },
   "outputs": [
    {
     "name": "stdin",
     "output_type": "stream",
     "text": [
      "Podaj ilość zdań do wygenerowania: 4\n"
     ]
    },
    {
     "name": "stdout",
     "output_type": "stream",
     "text": [
      "\n",
      "\n",
      "Wyższe założenia ideowe, a także wzmacnianie i rozwijanie struktur spełnia istotną rolę w kształtowaniu istniejących warunków administracyjno-finansowych.\n",
      "\n",
      "\n",
      "Podobnie stały wzrost ilości i zakres naszej aktywności pomaga w przygotowaniu i realizacji modelu rozwoju.\n",
      "\n",
      "\n",
      "Podobnie aktualna struktura organizacji zmusza nas do przeanalizowania modelu rozwoju.\n",
      "\n",
      "\n",
      "Wyższe założenia ideowe, a także konsultacja z szerokim aktywem zabezpiecza udział szerokiej grupie w kształtowaniu postaw uczestników wobec zadań stawianych przez organizację.\n"
     ]
    }
   ],
   "source": [
    "import random\n",
    "\n",
    "tab1 = [\n",
    "    \"Koleżanki i koledzy\",\n",
    "    \"Z drugiej strony\",\n",
    "    \"Podobnie\",\n",
    "    \"Nie zapominajmy jednak, że\",\n",
    "    \"W ten oto sposób\",\n",
    "    \"Praktyka dnia codziennego dowodzi, że\",\n",
    "    \"Wagi i znaczenia tych problemów nie trzeba szerzej uzasadniać, ponieważ\",\n",
    "    \"Różnorakie i bogate doświadczenia\",\n",
    "    \"Troska organizacji, a szczególnie\",\n",
    "    \"Wyższe założenia ideowe, a także\"\n",
    "]\n",
    "\n",
    "tab2 = [\n",
    "    \"realizacja nakreślonych zadań programowych\",\n",
    "    \"zakres i miejsce szkolenia kadr\",\n",
    "    \"stały wzrost ilości i zakres naszej aktywności\",\n",
    "    \"aktualna struktura organizacji\",\n",
    "    \"nowy model działalności organizacyjnej\",\n",
    "    \"dalszy rozwój różnych form działalności\",\n",
    "    \"stałe zabezpieczenie informacyjno programowe naszej działalności\",\n",
    "    \"wzmacnianie i rozwijanie struktur\",\n",
    "    \"konsultacja z szerokim aktywem\",\n",
    "    \"rozpoczęcie powszechnej akcji kształtowania postaw\"\n",
    "]\n",
    "\n",
    "tab3 = [\n",
    "    \"zmusza nas do przeanalizowania\",\n",
    "    \"spełnia istotną rolę w kształtowaniu\",\n",
    "    \"wymaga sprecyzowania i określenia\",\n",
    "    \"pomaga w przygotowaniu i realizacji\",\n",
    "    \"zabezpiecza udział szerokiej grupie w kształtowaniu\",\n",
    "    \"spełnia ważne zadania w wypracowaniu\",\n",
    "    \"umożliwia w większym stopniu tworzenie\",\n",
    "    \"powoduje docenianie wagi\",\n",
    "    \"przedstawia interesującą próbę sprawdzenia\",\n",
    "    \"pociąga za sobą proces wdrażania i unowocześniania\"\n",
    "]\n",
    "\n",
    "tab4 = [\n",
    "    \"istniejących warunków administracyjno-finansowych.\",\n",
    "    \"dalszych kierunków rozwoju.\",\n",
    "    \"systemu powszechnego uczestnictwa.\",\n",
    "    \"postaw uczestników wobec zadań stawianych przez organizację.\",\n",
    "    \"nowych propozycji.\",\n",
    "    \"kierunków postępowego wychowania.\",\n",
    "    \"systemu szkolenia kadry odpowiadającego potrzebom.\",\n",
    "    \"odpowiednich warunków aktywizacji.\",\n",
    "    \"modelu rozwoju.\",\n",
    "    \"form oddziaływania.\"\n",
    "]\n",
    "\n",
    "sentence_amount = input(\"Podaj ilość zdań do wygenerowania:\")\n",
    "\n",
    "while not sentence_amount.isnumeric():\n",
    "    sentence_amount = input(\"Podaj ilość zdań do wygenerowania:\")\n",
    "\n",
    "print(\"\\n\")\n",
    "sentence_amount = int(sentence_amount)\n",
    "    \n",
    "for i in range(sentence_amount, 0, -1):\n",
    "    rand_sentence_part_1 = random.choice(tab1)\n",
    "    rand_sentence_part_2 = random.choice(tab2)\n",
    "    rand_sentence_part_3 = random.choice(tab3)\n",
    "    rand_sentence_part_4 = random.choice(tab4)\n",
    "    \n",
    "    print(f\"{rand_sentence_part_1} {rand_sentence_part_2} {rand_sentence_part_3} {rand_sentence_part_4}\")\n",
    "    if i > 1: print(\"\\n\")"
   ]
  },
  {
   "cell_type": "markdown",
   "id": "a77beb69-3882-4f18-b0ed-e182156d9afc",
   "metadata": {},
   "source": [
    "<hr style=\\\"height: 3px; background-color: black;\\\" />"
   ]
  }
 ],
 "metadata": {
  "kernelspec": {
   "display_name": "Python 3 (ipykernel)",
   "language": "python",
   "name": "python3"
  },
  "language_info": {
   "codemirror_mode": {
    "name": "ipython",
    "version": 3
   },
   "file_extension": ".py",
   "mimetype": "text/x-python",
   "name": "python",
   "nbconvert_exporter": "python",
   "pygments_lexer": "ipython3",
   "version": "3.11.5"
  }
 },
 "nbformat": 4,
 "nbformat_minor": 5
}
