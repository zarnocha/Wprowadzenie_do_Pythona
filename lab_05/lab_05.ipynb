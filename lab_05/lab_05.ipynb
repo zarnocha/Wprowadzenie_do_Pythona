{
 "cells": [
  {
   "cell_type": "markdown",
   "metadata": {},
   "source": [
    "<h1 style=\\\"text-align: center\\\">lab_05, Artur Żarnoch, <b>162686</b></h1>\n",
    "<hr />"
   ]
  },
  {
   "cell_type": "markdown",
   "metadata": {},
   "source": [
    "<h2>Zadanie 1</h2>\n",
    "<p>Zdefiniuj następujące zbiory, wykorzystując Python comprehension:\n",
    "<pre>\n",
    "A = {1/x: x∈[1,10]}\n",
    "B = {1, 2, 4, 8,…, 2^10}\n",
    "C = {x: x∈ B i x jest liczbą podzielną przez 4}</pre></p>"
   ]
  },
  {
   "cell_type": "code",
   "execution_count": 1,
   "metadata": {},
   "outputs": [
    {
     "name": "stdout",
     "output_type": "stream",
     "text": [
      "A = {1/x: x∈[1,10]}: [1.0, 0.5, 0.3333333333333333, 0.25, 0.2, 0.16666666666666666, 0.14285714285714285, 0.125, 0.1111111111111111, 0.1]\n",
      "B = {1, 2, 4, 8,…, 2^10}: [1, 2, 4, 8, 16, 32, 64, 128, 256, 512, 1024]\n",
      "C = {x: x∈ B && x % 4 == 0}: [4, 8, 16, 32, 64, 128, 256, 512, 1024]\n"
     ]
    }
   ],
   "source": [
    "A = [1/i for i in range(1, 11)]\n",
    "B = [2**i for i in range(0, 11)]\n",
    "C = [i for i in B if i % 4 == 0]\n",
    "\n",
    "print(f\"A = {{1/x: x∈[1,10]}}: {A}\")\n",
    "print(f\"B = {{1, 2, 4, 8,…, 2^10}}: {B}\")\n",
    "print(f\"C = {{x: x∈ B && x % 4 == 0}}: {C}\")"
   ]
  },
  {
   "cell_type": "markdown",
   "metadata": {},
   "source": [
    "<hr style=\\\"height: 3px; background-color: black;\\\" />\n",
    "<h2>Zadanie 2</h2>\n",
    "<p>Wygeneruj macierz (lista dwupoziomowa) losowych wartości (sprawdź pakiet `random`) 4x4 i wykorzystując Python comprehension zdefiniuj listę, która będzie zawierała tylko elementy znajdujące się na głównej przekątnej.</p>"
   ]
  },
  {
   "cell_type": "code",
   "execution_count": 2,
   "metadata": {},
   "outputs": [
    {
     "name": "stdout",
     "output_type": "stream",
     "text": [
      "Macierz wynikowa: [[6, 6, 0, 9], [1, 6, 7, 2], [9, 6, 1, 9], [3, 7, 7, 6]]\n",
      "Główna przekątna: [6, 6, 1, 6]\n",
      "Główna przekątna wydobyta biblioteką NumPy: [6 6 1 6]\n",
      "\n",
      "Macierz wyświetlona za pomocą NumPy:\n",
      "[[6 6 0 9]\n",
      " [1 6 7 2]\n",
      " [9 6 1 9]\n",
      " [3 7 7 6]]\n",
      "\n",
      "Macierz diagonalna:\n",
      "[[6 0 0 0]\n",
      " [0 6 0 0]\n",
      " [0 0 1 0]\n",
      " [0 0 0 6]]\n"
     ]
    }
   ],
   "source": [
    "import random\n",
    "import numpy as np\n",
    "\n",
    "\n",
    "rows = 4\n",
    "cols = 4\n",
    "\n",
    "matrix = [[random.randint(0, 9) for _ in range(cols)] for _ in range(rows)]\n",
    "\n",
    "diagonal = [element[idx] for idx, element in enumerate(matrix) if matrix.index(element) == idx]\n",
    "\n",
    "print(f\"Macierz wynikowa: {matrix}\")\n",
    "print(f\"Główna przekątna: {diagonal}\")\n",
    "print(f\"Główna przekątna wydobyta biblioteką NumPy: {np.diag(matrix)}\")\n",
    "\n",
    "np_matrix = np.array(matrix)\n",
    "print(f\"\\nMacierz wyświetlona za pomocą NumPy:\\n{np_matrix}\")\n",
    "print(f\"\\nMacierz diagonalna:\\n{np.diag(diagonal)}\")"
   ]
  },
  {
   "cell_type": "markdown",
   "metadata": {},
   "source": [
    "<hr style=\\\"height: 3px; background-color: black;\\\" />\n",
    "<h2>Zadanie 3</h2>\n",
    "<p>Napisz wyrażenie generujące, które będzie zwracało krotkę dwuwartościową postaci: <pre>('Ala', [65, 108, 97]), ('ma', [109, 97]), ('kota.', [107, 111, 116, 97, 46])</pre> dla przykładowego zdania <pre>Ala ma kota</pre>. Dla każdego wyrazu z tekstu przekazanego jako argument wejściowy tego wyrażenia zwraca ten wyraz oraz listę wartości int odpowiadającą kodowi tego znaku z tablicy znaków (zobacz wbudowane ord(), chr()).</p>"
   ]
  },
  {
   "cell_type": "code",
   "execution_count": 3,
   "metadata": {},
   "outputs": [
    {
     "name": "stdout",
     "output_type": "stream",
     "text": [
      "('Ala', [65, 108, 97])\n",
      "('ma', [109, 97])\n",
      "('kota', [107, 111, 116, 97])\n",
      "Ala ma kota\n"
     ]
    }
   ],
   "source": [
    "sentence = \"Ala ma kota\"\n",
    "\n",
    "result = ((word, [ord(char) for char in word]) for word in sentence.split())\n",
    "\n",
    "for item in result:\n",
    "    print(item)\n",
    "\n",
    "result = ((word, [ord(char) for char in word]) for word in sentence.split())\n",
    "recovered_sentence = \" \".join(\"\".join([chr(val) for val in tup[1]]) for tup in result)\n",
    "print(recovered_sentence)"
   ]
  },
  {
   "cell_type": "markdown",
   "metadata": {},
   "source": [
    "<hr style=\\\"height: 3px; background-color: black;\\\" />\n",
    "<h2>Zadanie 4</h2>\n",
    "<p>Dodaj do funkcji z listingu 8 type hinting.</p>"
   ]
  },
  {
   "cell_type": "code",
   "execution_count": 4,
   "metadata": {},
   "outputs": [
    {
     "name": "stdout",
     "output_type": "stream",
     "text": [
      "-1\n",
      "-1.0\n",
      "(-3.732050807568877, -0.2679491924311228)\n",
      "(-3.764464035715473, -0.23553596428452708)\n"
     ]
    }
   ],
   "source": [
    "import math\n",
    "from typing import Tuple\n",
    "\n",
    "\n",
    "def row_kwadratowe(a: int | float, b: int | float, c: int | float) -> int | float | Tuple[float, float]:\n",
    "    delta: int = b**2 - 4 * a * c\n",
    "    if (delta < 0):\n",
    "        # brak pierwiastków\n",
    "        return -1\n",
    "    elif (delta == 0):\n",
    "        # jeden pierwiastek\n",
    "        x: float = (-b) / (2 * a)\n",
    "        return x\n",
    "    else:\n",
    "        # równanie ma dwa pierwiastki\n",
    "        x1: float = (- b - math.sqrt(delta)) / (2 * a)\n",
    "        x2: float = (- b + math.sqrt(delta)) / (2 * a)\n",
    "        return x1, x2\n",
    "\n",
    "print(row_kwadratowe(6,1,3))\n",
    "print(row_kwadratowe(1,2,1))\n",
    "print(row_kwadratowe(1,4,1))\n",
    "# dodany przykład:\n",
    "print(row_kwadratowe(1.5, 6, 1.33))"
   ]
  },
  {
   "cell_type": "markdown",
   "metadata": {},
   "source": [
    "<hr style=\\\"height: 3px; background-color: black;\\\" />\n",
    "<h2>Zadanie 5</h2>\n",
    "\n",
    "<p>Napisz funkcję, która:\n",
    "<ul>\n",
    "\n",
    "<li>przyjmuje z klawiatury n, będące liczbą całkowitą,</li>\n",
    "<li>wykonuje n rzutów kostką k6 i zwraca listę krotek wartości postaci ('oczka: 6', 'rzutów: i') itd., gdzie zmienna i jest ilością rzutów dla tej liczby oczek. Dodaj odpowiedni type hinting.</li></ul></p>"
   ]
  },
  {
   "cell_type": "code",
   "execution_count": 5,
   "metadata": {},
   "outputs": [
    {
     "name": "stdout",
     "output_type": "stream",
     "text": [
      "Ilość rzutów: 100\n",
      "[('oczka: 1', 'rzutów: 13'), ('oczka: 2', 'rzutów: 11'), ('oczka: 3', 'rzutów: 19'), ('oczka: 4', 'rzutów: 18'), ('oczka: 5', 'rzutów: 16'), ('oczka: 6', 'rzutów: 23')]\n"
     ]
    }
   ],
   "source": [
    "import random\n",
    "from typing import Dict, List, Tuple\n",
    "\n",
    "\n",
    "n: str = input(\"Wprowadź liczbę całkowitą:\")\n",
    "\n",
    "while not n.isnumeric():\n",
    "    n = input(\"Błąd. Wprowadź liczbę całkowitą:\")\n",
    "\n",
    "n: int = int(n)\n",
    "\n",
    "\n",
    "def throwK6Dice(throws: int) -> List[Tuple[str, str]]:\n",
    "    throws_dict: Dict[int, int] = {}\n",
    "    for i in range(1, 7):\n",
    "        throws_dict[i] = 0\n",
    "\n",
    "    for i in range(0, throws):\n",
    "        throw: int = random.randint(1, 6)\n",
    "        throws_dict[throw] = throws_dict[throw] + 1\n",
    "\n",
    "    throws_list: List[Tuple[str, str]] = []\n",
    "    for key, val in throws_dict.items():\n",
    "        throws_list.append((f\"oczka: {key}\", f\"rzutów: {val}\"))\n",
    "\n",
    "    return throws_list\n",
    "\n",
    "\n",
    "print(\"Ilość rzutów:\", n)\n",
    "print(throwK6Dice(n))"
   ]
  },
  {
   "cell_type": "markdown",
   "metadata": {},
   "source": [
    "<hr style=\\\"height: 3px; background-color: black;\\\" />\n",
    "<h2>Zadanie 6</h2>\n",
    "\n",
    "<p>Wykorzystując poprzedni przykład z listingu 11 zdefiniuj funkcję, która będzie przyjmowała obiekty typu `str` jako wejście (dowolną liczbę), a będzie zwracała listę tych łańcuchów posortowaną alfabetycznie.</p>"
   ]
  },
  {
   "cell_type": "code",
   "execution_count": 6,
   "metadata": {},
   "outputs": [
    {
     "name": "stdout",
     "output_type": "stream",
     "text": [
      "[]\n",
      "['a', 'c', 'd', 'e', 'h', 'l', 'p', 's', 'x', 'z']\n"
     ]
    }
   ],
   "source": [
    "def sort_strings(*napisy: Tuple[str]):\n",
    "    # jeżeli nie ma argumentów to\n",
    "    if len(napisy) == 0:\n",
    "        return []\n",
    "    else:\n",
    "        return sorted(napisy)\n",
    "\n",
    "# wywołanie gdy brak argumentów\n",
    "print(sort_strings())\n",
    "# podajemy argumenty\n",
    "print(sort_strings(\"x\", \"d\", \"h\", \"l\", \"p\", \"c\", \"z\", \"a\", \"s\", \"e\"))"
   ]
  },
  {
   "cell_type": "markdown",
   "metadata": {},
   "source": [
    "<hr style=\\\"height: 3px; background-color: black;\\\" />\n",
    "<h2>Zadanie 7</h2>\n",
    "\n",
    "<p>Napisz funkcję, która przyjmuje nieokreśloną liczbę wartości z kluczem. Funkcja przyjmuje argumenty w postaci: klucz to nazwa drużyny a wartość to ilość punktów, które drużyna zdobyła. Funkcja zlicza, ile jest wszystkich punktów razem i zwraca tę wartość.</p>"
   ]
  },
  {
   "cell_type": "code",
   "execution_count": 7,
   "metadata": {},
   "outputs": [
    {
     "name": "stdout",
     "output_type": "stream",
     "text": [
      "Suma punktów wszystkich zespołów: 450\n"
     ]
    }
   ],
   "source": [
    "def sumTeamsPoints(**teams_with_points):\n",
    "    return sum(teams_with_points.values())\n",
    "\n",
    "\n",
    "print(\"Suma punktów wszystkich zespołów:\", sumTeamsPoints(ManUnited=89, ManCity=78, Chelsea=75, Arsenal=73, Tottenham=72, Everton=63))"
   ]
  }
 ],
 "metadata": {
  "kernelspec": {
   "display_name": "Python 3",
   "language": "python",
   "name": "python3"
  },
  "language_info": {
   "codemirror_mode": {
    "name": "ipython",
    "version": 3
   },
   "file_extension": ".py",
   "mimetype": "text/x-python",
   "name": "python",
   "nbconvert_exporter": "python",
   "pygments_lexer": "ipython3",
   "version": "3.12.2"
  }
 },
 "nbformat": 4,
 "nbformat_minor": 2
}
